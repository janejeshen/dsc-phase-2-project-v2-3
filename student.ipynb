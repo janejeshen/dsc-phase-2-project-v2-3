{
 "cells": [
  {
   "cell_type": "markdown",
   "metadata": {},
   "source": [
    "## Final Project Submission\n",
    "\n",
    "Please fill out:\n",
    "* Student name: Jane Njuguna\n",
    "* Student pace:Full time\n",
    "* Scheduled project review date/time:30/09/2022 \n",
    "* Instructor name: Lucille Kaleha"
   ]
  },
  {
   "cell_type": "markdown",
   "metadata": {},
   "source": [
    "## Business understanding\n",
    "#### Business overview\n",
    "Cherie real estate agency is a housing stakeholder that gives advice to homeowners so that they can buy and/or sell home. \n",
    "#### Objectives\n",
    "We want to know how renovation of the \n",
    "We help homeowners to be able to predict the current and future prices of their houses depending on the renovations done on their houses so that they can know the best time to buy or sell their houses. \n",
    "\n",
    "We will build a model that will help us to predict the prices. This will help them to plan on so that they can be able to plan on when to buy \n",
    "We want to give to be able to give good advise to the homeowners about  the current and future prices of the houses\n",
    "\n",
    "We want to do analysis and create a model so that we can know how the location and the condition of the house  might increase the estimated value of their homes and by what amount. This will help us "
   ]
  },
  {
   "cell_type": "markdown",
   "metadata": {},
   "source": [
    "## Importing dependencies "
   ]
  },
  {
   "cell_type": "code",
   "execution_count": 194,
   "metadata": {},
   "outputs": [],
   "source": [
    "# importing libraries\n",
    "#For visualizations\n",
    "import matplotlib.pyplot as plt\n",
    "%matplotlib inline\n",
    "import seaborn as sns\n",
    "# For numerical operations\n",
    "import numpy as np\n",
    "#For data loading, data analysis and data cleaning \n",
    "import pandas as pd\n",
    "from sklearn.linear_model import LinearRegression\n",
    "from sklearn.model_selection import train_test_split\n",
    "from sklearn.metrics import mean_absolute_error, mean_squared_error\n",
    "import scipy.stats as stats\n",
    "import statsmodels.api as sm\n",
    "import warnings\n",
    "warnings.filterwarnings('ignore')"
   ]
  },
  {
   "cell_type": "markdown",
   "metadata": {},
   "source": [
    "### Data loading\n",
    "The data used is from kc_house_data.csv"
   ]
  },
  {
   "cell_type": "code",
   "execution_count": 195,
   "metadata": {},
   "outputs": [],
   "source": [
    "# loading the data\n",
    "houses_df = pd.read_csv(\"data/kc_house_data.csv\")"
   ]
  },
  {
   "cell_type": "markdown",
   "metadata": {},
   "source": [
    "## Data understanding\n",
    "    * Checking the shape of the dataframe\n",
    "    * Generate an overview of the dataframe"
   ]
  },
  {
   "cell_type": "code",
   "execution_count": 196,
   "metadata": {},
   "outputs": [
    {
     "data": {
      "text/plain": [
       "(21597, 21)"
      ]
     },
     "execution_count": 196,
     "metadata": {},
     "output_type": "execute_result"
    }
   ],
   "source": [
    "# to check the shape of the dataframe\n",
    "houses_df.shape"
   ]
  },
  {
   "cell_type": "code",
   "execution_count": 197,
   "metadata": {},
   "outputs": [
    {
     "name": "stdout",
     "output_type": "stream",
     "text": [
      "<class 'pandas.core.frame.DataFrame'>\n",
      "RangeIndex: 21597 entries, 0 to 21596\n",
      "Data columns (total 21 columns):\n",
      " #   Column         Non-Null Count  Dtype  \n",
      "---  ------         --------------  -----  \n",
      " 0   id             21597 non-null  int64  \n",
      " 1   date           21597 non-null  object \n",
      " 2   price          21597 non-null  float64\n",
      " 3   bedrooms       21597 non-null  int64  \n",
      " 4   bathrooms      21597 non-null  float64\n",
      " 5   sqft_living    21597 non-null  int64  \n",
      " 6   sqft_lot       21597 non-null  int64  \n",
      " 7   floors         21597 non-null  float64\n",
      " 8   waterfront     19221 non-null  object \n",
      " 9   view           21534 non-null  object \n",
      " 10  condition      21597 non-null  object \n",
      " 11  grade          21597 non-null  object \n",
      " 12  sqft_above     21597 non-null  int64  \n",
      " 13  sqft_basement  21597 non-null  object \n",
      " 14  yr_built       21597 non-null  int64  \n",
      " 15  yr_renovated   17755 non-null  float64\n",
      " 16  zipcode        21597 non-null  int64  \n",
      " 17  lat            21597 non-null  float64\n",
      " 18  long           21597 non-null  float64\n",
      " 19  sqft_living15  21597 non-null  int64  \n",
      " 20  sqft_lot15     21597 non-null  int64  \n",
      "dtypes: float64(6), int64(9), object(6)\n",
      "memory usage: 3.5+ MB\n"
     ]
    }
   ],
   "source": [
    "# to check  information about the DataFrame\n",
    "houses_df.info()"
   ]
  },
  {
   "cell_type": "code",
   "execution_count": 198,
   "metadata": {},
   "outputs": [
    {
     "data": {
      "text/plain": [
       "int64      9\n",
       "object     6\n",
       "float64    6\n",
       "dtype: int64"
      ]
     },
     "execution_count": 198,
     "metadata": {},
     "output_type": "execute_result"
    }
   ],
   "source": [
    "# checking the type of data types in the dataset\n",
    "houses_df.dtypes.value_counts()"
   ]
  },
  {
   "cell_type": "code",
   "execution_count": 199,
   "metadata": {},
   "outputs": [
    {
     "data": {
      "text/plain": [
       "Index(['id', 'date', 'price', 'bedrooms', 'bathrooms', 'sqft_living',\n",
       "       'sqft_lot', 'floors', 'waterfront', 'view', 'condition', 'grade',\n",
       "       'sqft_above', 'sqft_basement', 'yr_built', 'yr_renovated', 'zipcode',\n",
       "       'lat', 'long', 'sqft_living15', 'sqft_lot15'],\n",
       "      dtype='object')"
      ]
     },
     "execution_count": 199,
     "metadata": {},
     "output_type": "execute_result"
    }
   ],
   "source": [
    "#to check the columns in the dataset\n",
    "houses_df.columns"
   ]
  },
  {
   "cell_type": "code",
   "execution_count": 200,
   "metadata": {},
   "outputs": [
    {
     "data": {
      "text/html": [
       "<div>\n",
       "<style scoped>\n",
       "    .dataframe tbody tr th:only-of-type {\n",
       "        vertical-align: middle;\n",
       "    }\n",
       "\n",
       "    .dataframe tbody tr th {\n",
       "        vertical-align: top;\n",
       "    }\n",
       "\n",
       "    .dataframe thead th {\n",
       "        text-align: right;\n",
       "    }\n",
       "</style>\n",
       "<table border=\"1\" class=\"dataframe\">\n",
       "  <thead>\n",
       "    <tr style=\"text-align: right;\">\n",
       "      <th></th>\n",
       "      <th>id</th>\n",
       "      <th>date</th>\n",
       "      <th>price</th>\n",
       "      <th>bedrooms</th>\n",
       "      <th>bathrooms</th>\n",
       "      <th>sqft_living</th>\n",
       "      <th>sqft_lot</th>\n",
       "      <th>floors</th>\n",
       "      <th>waterfront</th>\n",
       "      <th>view</th>\n",
       "      <th>...</th>\n",
       "      <th>grade</th>\n",
       "      <th>sqft_above</th>\n",
       "      <th>sqft_basement</th>\n",
       "      <th>yr_built</th>\n",
       "      <th>yr_renovated</th>\n",
       "      <th>zipcode</th>\n",
       "      <th>lat</th>\n",
       "      <th>long</th>\n",
       "      <th>sqft_living15</th>\n",
       "      <th>sqft_lot15</th>\n",
       "    </tr>\n",
       "  </thead>\n",
       "  <tbody>\n",
       "    <tr>\n",
       "      <th>0</th>\n",
       "      <td>7129300520</td>\n",
       "      <td>10/13/2014</td>\n",
       "      <td>221900.0</td>\n",
       "      <td>3</td>\n",
       "      <td>1.00</td>\n",
       "      <td>1180</td>\n",
       "      <td>5650</td>\n",
       "      <td>1.0</td>\n",
       "      <td>NaN</td>\n",
       "      <td>NONE</td>\n",
       "      <td>...</td>\n",
       "      <td>7 Average</td>\n",
       "      <td>1180</td>\n",
       "      <td>0.0</td>\n",
       "      <td>1955</td>\n",
       "      <td>0.0</td>\n",
       "      <td>98178</td>\n",
       "      <td>47.5112</td>\n",
       "      <td>-122.257</td>\n",
       "      <td>1340</td>\n",
       "      <td>5650</td>\n",
       "    </tr>\n",
       "    <tr>\n",
       "      <th>1</th>\n",
       "      <td>6414100192</td>\n",
       "      <td>12/9/2014</td>\n",
       "      <td>538000.0</td>\n",
       "      <td>3</td>\n",
       "      <td>2.25</td>\n",
       "      <td>2570</td>\n",
       "      <td>7242</td>\n",
       "      <td>2.0</td>\n",
       "      <td>NO</td>\n",
       "      <td>NONE</td>\n",
       "      <td>...</td>\n",
       "      <td>7 Average</td>\n",
       "      <td>2170</td>\n",
       "      <td>400.0</td>\n",
       "      <td>1951</td>\n",
       "      <td>1991.0</td>\n",
       "      <td>98125</td>\n",
       "      <td>47.7210</td>\n",
       "      <td>-122.319</td>\n",
       "      <td>1690</td>\n",
       "      <td>7639</td>\n",
       "    </tr>\n",
       "    <tr>\n",
       "      <th>2</th>\n",
       "      <td>5631500400</td>\n",
       "      <td>2/25/2015</td>\n",
       "      <td>180000.0</td>\n",
       "      <td>2</td>\n",
       "      <td>1.00</td>\n",
       "      <td>770</td>\n",
       "      <td>10000</td>\n",
       "      <td>1.0</td>\n",
       "      <td>NO</td>\n",
       "      <td>NONE</td>\n",
       "      <td>...</td>\n",
       "      <td>6 Low Average</td>\n",
       "      <td>770</td>\n",
       "      <td>0.0</td>\n",
       "      <td>1933</td>\n",
       "      <td>NaN</td>\n",
       "      <td>98028</td>\n",
       "      <td>47.7379</td>\n",
       "      <td>-122.233</td>\n",
       "      <td>2720</td>\n",
       "      <td>8062</td>\n",
       "    </tr>\n",
       "    <tr>\n",
       "      <th>3</th>\n",
       "      <td>2487200875</td>\n",
       "      <td>12/9/2014</td>\n",
       "      <td>604000.0</td>\n",
       "      <td>4</td>\n",
       "      <td>3.00</td>\n",
       "      <td>1960</td>\n",
       "      <td>5000</td>\n",
       "      <td>1.0</td>\n",
       "      <td>NO</td>\n",
       "      <td>NONE</td>\n",
       "      <td>...</td>\n",
       "      <td>7 Average</td>\n",
       "      <td>1050</td>\n",
       "      <td>910.0</td>\n",
       "      <td>1965</td>\n",
       "      <td>0.0</td>\n",
       "      <td>98136</td>\n",
       "      <td>47.5208</td>\n",
       "      <td>-122.393</td>\n",
       "      <td>1360</td>\n",
       "      <td>5000</td>\n",
       "    </tr>\n",
       "    <tr>\n",
       "      <th>4</th>\n",
       "      <td>1954400510</td>\n",
       "      <td>2/18/2015</td>\n",
       "      <td>510000.0</td>\n",
       "      <td>3</td>\n",
       "      <td>2.00</td>\n",
       "      <td>1680</td>\n",
       "      <td>8080</td>\n",
       "      <td>1.0</td>\n",
       "      <td>NO</td>\n",
       "      <td>NONE</td>\n",
       "      <td>...</td>\n",
       "      <td>8 Good</td>\n",
       "      <td>1680</td>\n",
       "      <td>0.0</td>\n",
       "      <td>1987</td>\n",
       "      <td>0.0</td>\n",
       "      <td>98074</td>\n",
       "      <td>47.6168</td>\n",
       "      <td>-122.045</td>\n",
       "      <td>1800</td>\n",
       "      <td>7503</td>\n",
       "    </tr>\n",
       "  </tbody>\n",
       "</table>\n",
       "<p>5 rows × 21 columns</p>\n",
       "</div>"
      ],
      "text/plain": [
       "           id        date     price  bedrooms  bathrooms  sqft_living  \\\n",
       "0  7129300520  10/13/2014  221900.0         3       1.00         1180   \n",
       "1  6414100192   12/9/2014  538000.0         3       2.25         2570   \n",
       "2  5631500400   2/25/2015  180000.0         2       1.00          770   \n",
       "3  2487200875   12/9/2014  604000.0         4       3.00         1960   \n",
       "4  1954400510   2/18/2015  510000.0         3       2.00         1680   \n",
       "\n",
       "   sqft_lot  floors waterfront  view  ...          grade sqft_above  \\\n",
       "0      5650     1.0        NaN  NONE  ...      7 Average       1180   \n",
       "1      7242     2.0         NO  NONE  ...      7 Average       2170   \n",
       "2     10000     1.0         NO  NONE  ...  6 Low Average        770   \n",
       "3      5000     1.0         NO  NONE  ...      7 Average       1050   \n",
       "4      8080     1.0         NO  NONE  ...         8 Good       1680   \n",
       "\n",
       "   sqft_basement yr_built  yr_renovated  zipcode      lat     long  \\\n",
       "0            0.0     1955           0.0    98178  47.5112 -122.257   \n",
       "1          400.0     1951        1991.0    98125  47.7210 -122.319   \n",
       "2            0.0     1933           NaN    98028  47.7379 -122.233   \n",
       "3          910.0     1965           0.0    98136  47.5208 -122.393   \n",
       "4            0.0     1987           0.0    98074  47.6168 -122.045   \n",
       "\n",
       "   sqft_living15  sqft_lot15  \n",
       "0           1340        5650  \n",
       "1           1690        7639  \n",
       "2           2720        8062  \n",
       "3           1360        5000  \n",
       "4           1800        7503  \n",
       "\n",
       "[5 rows x 21 columns]"
      ]
     },
     "execution_count": 200,
     "metadata": {},
     "output_type": "execute_result"
    }
   ],
   "source": [
    "# the overview of the dataframe\n",
    "houses_df.head()"
   ]
  },
  {
   "cell_type": "code",
   "execution_count": 201,
   "metadata": {},
   "outputs": [
    {
     "data": {
      "text/html": [
       "<div>\n",
       "<style scoped>\n",
       "    .dataframe tbody tr th:only-of-type {\n",
       "        vertical-align: middle;\n",
       "    }\n",
       "\n",
       "    .dataframe tbody tr th {\n",
       "        vertical-align: top;\n",
       "    }\n",
       "\n",
       "    .dataframe thead th {\n",
       "        text-align: right;\n",
       "    }\n",
       "</style>\n",
       "<table border=\"1\" class=\"dataframe\">\n",
       "  <thead>\n",
       "    <tr style=\"text-align: right;\">\n",
       "      <th></th>\n",
       "      <th>id</th>\n",
       "      <th>date</th>\n",
       "      <th>price</th>\n",
       "      <th>bedrooms</th>\n",
       "      <th>bathrooms</th>\n",
       "      <th>sqft_living</th>\n",
       "      <th>sqft_lot</th>\n",
       "      <th>floors</th>\n",
       "      <th>waterfront</th>\n",
       "      <th>view</th>\n",
       "      <th>...</th>\n",
       "      <th>grade</th>\n",
       "      <th>sqft_above</th>\n",
       "      <th>sqft_basement</th>\n",
       "      <th>yr_built</th>\n",
       "      <th>yr_renovated</th>\n",
       "      <th>zipcode</th>\n",
       "      <th>lat</th>\n",
       "      <th>long</th>\n",
       "      <th>sqft_living15</th>\n",
       "      <th>sqft_lot15</th>\n",
       "    </tr>\n",
       "  </thead>\n",
       "  <tbody>\n",
       "    <tr>\n",
       "      <th>21592</th>\n",
       "      <td>263000018</td>\n",
       "      <td>5/21/2014</td>\n",
       "      <td>360000.0</td>\n",
       "      <td>3</td>\n",
       "      <td>2.50</td>\n",
       "      <td>1530</td>\n",
       "      <td>1131</td>\n",
       "      <td>3.0</td>\n",
       "      <td>NO</td>\n",
       "      <td>NONE</td>\n",
       "      <td>...</td>\n",
       "      <td>8 Good</td>\n",
       "      <td>1530</td>\n",
       "      <td>0.0</td>\n",
       "      <td>2009</td>\n",
       "      <td>0.0</td>\n",
       "      <td>98103</td>\n",
       "      <td>47.6993</td>\n",
       "      <td>-122.346</td>\n",
       "      <td>1530</td>\n",
       "      <td>1509</td>\n",
       "    </tr>\n",
       "    <tr>\n",
       "      <th>21593</th>\n",
       "      <td>6600060120</td>\n",
       "      <td>2/23/2015</td>\n",
       "      <td>400000.0</td>\n",
       "      <td>4</td>\n",
       "      <td>2.50</td>\n",
       "      <td>2310</td>\n",
       "      <td>5813</td>\n",
       "      <td>2.0</td>\n",
       "      <td>NO</td>\n",
       "      <td>NONE</td>\n",
       "      <td>...</td>\n",
       "      <td>8 Good</td>\n",
       "      <td>2310</td>\n",
       "      <td>0.0</td>\n",
       "      <td>2014</td>\n",
       "      <td>0.0</td>\n",
       "      <td>98146</td>\n",
       "      <td>47.5107</td>\n",
       "      <td>-122.362</td>\n",
       "      <td>1830</td>\n",
       "      <td>7200</td>\n",
       "    </tr>\n",
       "    <tr>\n",
       "      <th>21594</th>\n",
       "      <td>1523300141</td>\n",
       "      <td>6/23/2014</td>\n",
       "      <td>402101.0</td>\n",
       "      <td>2</td>\n",
       "      <td>0.75</td>\n",
       "      <td>1020</td>\n",
       "      <td>1350</td>\n",
       "      <td>2.0</td>\n",
       "      <td>NO</td>\n",
       "      <td>NONE</td>\n",
       "      <td>...</td>\n",
       "      <td>7 Average</td>\n",
       "      <td>1020</td>\n",
       "      <td>0.0</td>\n",
       "      <td>2009</td>\n",
       "      <td>0.0</td>\n",
       "      <td>98144</td>\n",
       "      <td>47.5944</td>\n",
       "      <td>-122.299</td>\n",
       "      <td>1020</td>\n",
       "      <td>2007</td>\n",
       "    </tr>\n",
       "    <tr>\n",
       "      <th>21595</th>\n",
       "      <td>291310100</td>\n",
       "      <td>1/16/2015</td>\n",
       "      <td>400000.0</td>\n",
       "      <td>3</td>\n",
       "      <td>2.50</td>\n",
       "      <td>1600</td>\n",
       "      <td>2388</td>\n",
       "      <td>2.0</td>\n",
       "      <td>NaN</td>\n",
       "      <td>NONE</td>\n",
       "      <td>...</td>\n",
       "      <td>8 Good</td>\n",
       "      <td>1600</td>\n",
       "      <td>0.0</td>\n",
       "      <td>2004</td>\n",
       "      <td>0.0</td>\n",
       "      <td>98027</td>\n",
       "      <td>47.5345</td>\n",
       "      <td>-122.069</td>\n",
       "      <td>1410</td>\n",
       "      <td>1287</td>\n",
       "    </tr>\n",
       "    <tr>\n",
       "      <th>21596</th>\n",
       "      <td>1523300157</td>\n",
       "      <td>10/15/2014</td>\n",
       "      <td>325000.0</td>\n",
       "      <td>2</td>\n",
       "      <td>0.75</td>\n",
       "      <td>1020</td>\n",
       "      <td>1076</td>\n",
       "      <td>2.0</td>\n",
       "      <td>NO</td>\n",
       "      <td>NONE</td>\n",
       "      <td>...</td>\n",
       "      <td>7 Average</td>\n",
       "      <td>1020</td>\n",
       "      <td>0.0</td>\n",
       "      <td>2008</td>\n",
       "      <td>0.0</td>\n",
       "      <td>98144</td>\n",
       "      <td>47.5941</td>\n",
       "      <td>-122.299</td>\n",
       "      <td>1020</td>\n",
       "      <td>1357</td>\n",
       "    </tr>\n",
       "  </tbody>\n",
       "</table>\n",
       "<p>5 rows × 21 columns</p>\n",
       "</div>"
      ],
      "text/plain": [
       "               id        date     price  bedrooms  bathrooms  sqft_living  \\\n",
       "21592   263000018   5/21/2014  360000.0         3       2.50         1530   \n",
       "21593  6600060120   2/23/2015  400000.0         4       2.50         2310   \n",
       "21594  1523300141   6/23/2014  402101.0         2       0.75         1020   \n",
       "21595   291310100   1/16/2015  400000.0         3       2.50         1600   \n",
       "21596  1523300157  10/15/2014  325000.0         2       0.75         1020   \n",
       "\n",
       "       sqft_lot  floors waterfront  view  ...      grade sqft_above  \\\n",
       "21592      1131     3.0         NO  NONE  ...     8 Good       1530   \n",
       "21593      5813     2.0         NO  NONE  ...     8 Good       2310   \n",
       "21594      1350     2.0         NO  NONE  ...  7 Average       1020   \n",
       "21595      2388     2.0        NaN  NONE  ...     8 Good       1600   \n",
       "21596      1076     2.0         NO  NONE  ...  7 Average       1020   \n",
       "\n",
       "       sqft_basement yr_built  yr_renovated  zipcode      lat     long  \\\n",
       "21592            0.0     2009           0.0    98103  47.6993 -122.346   \n",
       "21593            0.0     2014           0.0    98146  47.5107 -122.362   \n",
       "21594            0.0     2009           0.0    98144  47.5944 -122.299   \n",
       "21595            0.0     2004           0.0    98027  47.5345 -122.069   \n",
       "21596            0.0     2008           0.0    98144  47.5941 -122.299   \n",
       "\n",
       "       sqft_living15  sqft_lot15  \n",
       "21592           1530        1509  \n",
       "21593           1830        7200  \n",
       "21594           1020        2007  \n",
       "21595           1410        1287  \n",
       "21596           1020        1357  \n",
       "\n",
       "[5 rows x 21 columns]"
      ]
     },
     "execution_count": 201,
     "metadata": {},
     "output_type": "execute_result"
    }
   ],
   "source": [
    "# the overview of the dataframe\n",
    "houses_df.tail()"
   ]
  },
  {
   "cell_type": "code",
   "execution_count": 202,
   "metadata": {},
   "outputs": [
    {
     "data": {
      "text/html": [
       "<div>\n",
       "<style scoped>\n",
       "    .dataframe tbody tr th:only-of-type {\n",
       "        vertical-align: middle;\n",
       "    }\n",
       "\n",
       "    .dataframe tbody tr th {\n",
       "        vertical-align: top;\n",
       "    }\n",
       "\n",
       "    .dataframe thead th {\n",
       "        text-align: right;\n",
       "    }\n",
       "</style>\n",
       "<table border=\"1\" class=\"dataframe\">\n",
       "  <thead>\n",
       "    <tr style=\"text-align: right;\">\n",
       "      <th></th>\n",
       "      <th>id</th>\n",
       "      <th>price</th>\n",
       "      <th>bedrooms</th>\n",
       "      <th>bathrooms</th>\n",
       "      <th>sqft_living</th>\n",
       "      <th>sqft_lot</th>\n",
       "      <th>floors</th>\n",
       "      <th>sqft_above</th>\n",
       "      <th>yr_built</th>\n",
       "      <th>yr_renovated</th>\n",
       "      <th>zipcode</th>\n",
       "      <th>lat</th>\n",
       "      <th>long</th>\n",
       "      <th>sqft_living15</th>\n",
       "      <th>sqft_lot15</th>\n",
       "    </tr>\n",
       "  </thead>\n",
       "  <tbody>\n",
       "    <tr>\n",
       "      <th>count</th>\n",
       "      <td>2.159700e+04</td>\n",
       "      <td>2.159700e+04</td>\n",
       "      <td>21597.000000</td>\n",
       "      <td>21597.000000</td>\n",
       "      <td>21597.000000</td>\n",
       "      <td>2.159700e+04</td>\n",
       "      <td>21597.000000</td>\n",
       "      <td>21597.000000</td>\n",
       "      <td>21597.000000</td>\n",
       "      <td>17755.000000</td>\n",
       "      <td>21597.000000</td>\n",
       "      <td>21597.000000</td>\n",
       "      <td>21597.000000</td>\n",
       "      <td>21597.000000</td>\n",
       "      <td>21597.000000</td>\n",
       "    </tr>\n",
       "    <tr>\n",
       "      <th>mean</th>\n",
       "      <td>4.580474e+09</td>\n",
       "      <td>5.402966e+05</td>\n",
       "      <td>3.373200</td>\n",
       "      <td>2.115826</td>\n",
       "      <td>2080.321850</td>\n",
       "      <td>1.509941e+04</td>\n",
       "      <td>1.494096</td>\n",
       "      <td>1788.596842</td>\n",
       "      <td>1970.999676</td>\n",
       "      <td>83.636778</td>\n",
       "      <td>98077.951845</td>\n",
       "      <td>47.560093</td>\n",
       "      <td>-122.213982</td>\n",
       "      <td>1986.620318</td>\n",
       "      <td>12758.283512</td>\n",
       "    </tr>\n",
       "    <tr>\n",
       "      <th>std</th>\n",
       "      <td>2.876736e+09</td>\n",
       "      <td>3.673681e+05</td>\n",
       "      <td>0.926299</td>\n",
       "      <td>0.768984</td>\n",
       "      <td>918.106125</td>\n",
       "      <td>4.141264e+04</td>\n",
       "      <td>0.539683</td>\n",
       "      <td>827.759761</td>\n",
       "      <td>29.375234</td>\n",
       "      <td>399.946414</td>\n",
       "      <td>53.513072</td>\n",
       "      <td>0.138552</td>\n",
       "      <td>0.140724</td>\n",
       "      <td>685.230472</td>\n",
       "      <td>27274.441950</td>\n",
       "    </tr>\n",
       "    <tr>\n",
       "      <th>min</th>\n",
       "      <td>1.000102e+06</td>\n",
       "      <td>7.800000e+04</td>\n",
       "      <td>1.000000</td>\n",
       "      <td>0.500000</td>\n",
       "      <td>370.000000</td>\n",
       "      <td>5.200000e+02</td>\n",
       "      <td>1.000000</td>\n",
       "      <td>370.000000</td>\n",
       "      <td>1900.000000</td>\n",
       "      <td>0.000000</td>\n",
       "      <td>98001.000000</td>\n",
       "      <td>47.155900</td>\n",
       "      <td>-122.519000</td>\n",
       "      <td>399.000000</td>\n",
       "      <td>651.000000</td>\n",
       "    </tr>\n",
       "    <tr>\n",
       "      <th>25%</th>\n",
       "      <td>2.123049e+09</td>\n",
       "      <td>3.220000e+05</td>\n",
       "      <td>3.000000</td>\n",
       "      <td>1.750000</td>\n",
       "      <td>1430.000000</td>\n",
       "      <td>5.040000e+03</td>\n",
       "      <td>1.000000</td>\n",
       "      <td>1190.000000</td>\n",
       "      <td>1951.000000</td>\n",
       "      <td>0.000000</td>\n",
       "      <td>98033.000000</td>\n",
       "      <td>47.471100</td>\n",
       "      <td>-122.328000</td>\n",
       "      <td>1490.000000</td>\n",
       "      <td>5100.000000</td>\n",
       "    </tr>\n",
       "    <tr>\n",
       "      <th>50%</th>\n",
       "      <td>3.904930e+09</td>\n",
       "      <td>4.500000e+05</td>\n",
       "      <td>3.000000</td>\n",
       "      <td>2.250000</td>\n",
       "      <td>1910.000000</td>\n",
       "      <td>7.618000e+03</td>\n",
       "      <td>1.500000</td>\n",
       "      <td>1560.000000</td>\n",
       "      <td>1975.000000</td>\n",
       "      <td>0.000000</td>\n",
       "      <td>98065.000000</td>\n",
       "      <td>47.571800</td>\n",
       "      <td>-122.231000</td>\n",
       "      <td>1840.000000</td>\n",
       "      <td>7620.000000</td>\n",
       "    </tr>\n",
       "    <tr>\n",
       "      <th>75%</th>\n",
       "      <td>7.308900e+09</td>\n",
       "      <td>6.450000e+05</td>\n",
       "      <td>4.000000</td>\n",
       "      <td>2.500000</td>\n",
       "      <td>2550.000000</td>\n",
       "      <td>1.068500e+04</td>\n",
       "      <td>2.000000</td>\n",
       "      <td>2210.000000</td>\n",
       "      <td>1997.000000</td>\n",
       "      <td>0.000000</td>\n",
       "      <td>98118.000000</td>\n",
       "      <td>47.678000</td>\n",
       "      <td>-122.125000</td>\n",
       "      <td>2360.000000</td>\n",
       "      <td>10083.000000</td>\n",
       "    </tr>\n",
       "    <tr>\n",
       "      <th>max</th>\n",
       "      <td>9.900000e+09</td>\n",
       "      <td>7.700000e+06</td>\n",
       "      <td>33.000000</td>\n",
       "      <td>8.000000</td>\n",
       "      <td>13540.000000</td>\n",
       "      <td>1.651359e+06</td>\n",
       "      <td>3.500000</td>\n",
       "      <td>9410.000000</td>\n",
       "      <td>2015.000000</td>\n",
       "      <td>2015.000000</td>\n",
       "      <td>98199.000000</td>\n",
       "      <td>47.777600</td>\n",
       "      <td>-121.315000</td>\n",
       "      <td>6210.000000</td>\n",
       "      <td>871200.000000</td>\n",
       "    </tr>\n",
       "  </tbody>\n",
       "</table>\n",
       "</div>"
      ],
      "text/plain": [
       "                 id         price      bedrooms     bathrooms   sqft_living  \\\n",
       "count  2.159700e+04  2.159700e+04  21597.000000  21597.000000  21597.000000   \n",
       "mean   4.580474e+09  5.402966e+05      3.373200      2.115826   2080.321850   \n",
       "std    2.876736e+09  3.673681e+05      0.926299      0.768984    918.106125   \n",
       "min    1.000102e+06  7.800000e+04      1.000000      0.500000    370.000000   \n",
       "25%    2.123049e+09  3.220000e+05      3.000000      1.750000   1430.000000   \n",
       "50%    3.904930e+09  4.500000e+05      3.000000      2.250000   1910.000000   \n",
       "75%    7.308900e+09  6.450000e+05      4.000000      2.500000   2550.000000   \n",
       "max    9.900000e+09  7.700000e+06     33.000000      8.000000  13540.000000   \n",
       "\n",
       "           sqft_lot        floors    sqft_above      yr_built  yr_renovated  \\\n",
       "count  2.159700e+04  21597.000000  21597.000000  21597.000000  17755.000000   \n",
       "mean   1.509941e+04      1.494096   1788.596842   1970.999676     83.636778   \n",
       "std    4.141264e+04      0.539683    827.759761     29.375234    399.946414   \n",
       "min    5.200000e+02      1.000000    370.000000   1900.000000      0.000000   \n",
       "25%    5.040000e+03      1.000000   1190.000000   1951.000000      0.000000   \n",
       "50%    7.618000e+03      1.500000   1560.000000   1975.000000      0.000000   \n",
       "75%    1.068500e+04      2.000000   2210.000000   1997.000000      0.000000   \n",
       "max    1.651359e+06      3.500000   9410.000000   2015.000000   2015.000000   \n",
       "\n",
       "            zipcode           lat          long  sqft_living15     sqft_lot15  \n",
       "count  21597.000000  21597.000000  21597.000000   21597.000000   21597.000000  \n",
       "mean   98077.951845     47.560093   -122.213982    1986.620318   12758.283512  \n",
       "std       53.513072      0.138552      0.140724     685.230472   27274.441950  \n",
       "min    98001.000000     47.155900   -122.519000     399.000000     651.000000  \n",
       "25%    98033.000000     47.471100   -122.328000    1490.000000    5100.000000  \n",
       "50%    98065.000000     47.571800   -122.231000    1840.000000    7620.000000  \n",
       "75%    98118.000000     47.678000   -122.125000    2360.000000   10083.000000  \n",
       "max    98199.000000     47.777600   -121.315000    6210.000000  871200.000000  "
      ]
     },
     "execution_count": 202,
     "metadata": {},
     "output_type": "execute_result"
    }
   ],
   "source": [
    "# descriptive statistics of the dataset\n",
    "houses_df.describe()"
   ]
  },
  {
   "cell_type": "code",
   "execution_count": 203,
   "metadata": {},
   "outputs": [
    {
     "data": {
      "text/plain": [
       "id               21420\n",
       "date               372\n",
       "price             3622\n",
       "bedrooms            12\n",
       "bathrooms           29\n",
       "sqft_living       1034\n",
       "sqft_lot          9776\n",
       "floors               6\n",
       "waterfront           2\n",
       "view                 5\n",
       "condition            5\n",
       "grade               11\n",
       "sqft_above         942\n",
       "sqft_basement      304\n",
       "yr_built           116\n",
       "yr_renovated        70\n",
       "zipcode             70\n",
       "lat               5033\n",
       "long               751\n",
       "sqft_living15      777\n",
       "sqft_lot15        8682\n",
       "dtype: int64"
      ]
     },
     "execution_count": 203,
     "metadata": {},
     "output_type": "execute_result"
    }
   ],
   "source": [
    "#checking the unique values per column\n",
    "houses_df.nunique()"
   ]
  },
  {
   "cell_type": "markdown",
   "metadata": {},
   "source": [
    "### Observations\n",
    "1. The data used is in the form of a csv file.\n",
    "2. The dataframe has 21597 rows and 21 columns.\n",
    "3. The dataframe has 6 float64,9 int64 and 6 object data types."
   ]
  },
  {
   "cell_type": "markdown",
   "metadata": {},
   "source": [
    "## Data preparation\n",
    "#### a) Univariant analysis\n",
    "    * Data cleaning:Checking missing values and duplicates\n",
    "    * Dropping columns not used\n",
    "    * checking for outliers"
   ]
  },
  {
   "cell_type": "code",
   "execution_count": 204,
   "metadata": {},
   "outputs": [
    {
     "data": {
      "text/plain": [
       "yr_renovated     3842\n",
       "waterfront       2376\n",
       "view               63\n",
       "id                  0\n",
       "sqft_above          0\n",
       "sqft_living15       0\n",
       "long                0\n",
       "lat                 0\n",
       "zipcode             0\n",
       "yr_built            0\n",
       "sqft_basement       0\n",
       "condition           0\n",
       "grade               0\n",
       "date                0\n",
       "floors              0\n",
       "sqft_lot            0\n",
       "sqft_living         0\n",
       "bathrooms           0\n",
       "bedrooms            0\n",
       "price               0\n",
       "sqft_lot15          0\n",
       "dtype: int64"
      ]
     },
     "execution_count": 204,
     "metadata": {},
     "output_type": "execute_result"
    }
   ],
   "source": [
    "# To check the the null values in the dataset\n",
    "missing_data_check = houses_df.isnull().sum().sort_values(ascending = False)\n",
    "missing_data_check"
   ]
  },
  {
   "cell_type": "code",
   "execution_count": 205,
   "metadata": {},
   "outputs": [
    {
     "data": {
      "text/html": [
       "<div>\n",
       "<style scoped>\n",
       "    .dataframe tbody tr th:only-of-type {\n",
       "        vertical-align: middle;\n",
       "    }\n",
       "\n",
       "    .dataframe tbody tr th {\n",
       "        vertical-align: top;\n",
       "    }\n",
       "\n",
       "    .dataframe thead th {\n",
       "        text-align: right;\n",
       "    }\n",
       "</style>\n",
       "<table border=\"1\" class=\"dataframe\">\n",
       "  <thead>\n",
       "    <tr style=\"text-align: right;\">\n",
       "      <th></th>\n",
       "      <th>total missing values</th>\n",
       "      <th>missing values percentage</th>\n",
       "    </tr>\n",
       "  </thead>\n",
       "  <tbody>\n",
       "    <tr>\n",
       "      <th>yr_renovated</th>\n",
       "      <td>3842</td>\n",
       "      <td>0.177895</td>\n",
       "    </tr>\n",
       "    <tr>\n",
       "      <th>waterfront</th>\n",
       "      <td>2376</td>\n",
       "      <td>0.110015</td>\n",
       "    </tr>\n",
       "    <tr>\n",
       "      <th>view</th>\n",
       "      <td>63</td>\n",
       "      <td>0.002917</td>\n",
       "    </tr>\n",
       "    <tr>\n",
       "      <th>id</th>\n",
       "      <td>0</td>\n",
       "      <td>0.000000</td>\n",
       "    </tr>\n",
       "    <tr>\n",
       "      <th>sqft_above</th>\n",
       "      <td>0</td>\n",
       "      <td>0.000000</td>\n",
       "    </tr>\n",
       "    <tr>\n",
       "      <th>sqft_living15</th>\n",
       "      <td>0</td>\n",
       "      <td>0.000000</td>\n",
       "    </tr>\n",
       "    <tr>\n",
       "      <th>long</th>\n",
       "      <td>0</td>\n",
       "      <td>0.000000</td>\n",
       "    </tr>\n",
       "    <tr>\n",
       "      <th>lat</th>\n",
       "      <td>0</td>\n",
       "      <td>0.000000</td>\n",
       "    </tr>\n",
       "    <tr>\n",
       "      <th>zipcode</th>\n",
       "      <td>0</td>\n",
       "      <td>0.000000</td>\n",
       "    </tr>\n",
       "    <tr>\n",
       "      <th>yr_built</th>\n",
       "      <td>0</td>\n",
       "      <td>0.000000</td>\n",
       "    </tr>\n",
       "    <tr>\n",
       "      <th>sqft_basement</th>\n",
       "      <td>0</td>\n",
       "      <td>0.000000</td>\n",
       "    </tr>\n",
       "    <tr>\n",
       "      <th>condition</th>\n",
       "      <td>0</td>\n",
       "      <td>0.000000</td>\n",
       "    </tr>\n",
       "    <tr>\n",
       "      <th>grade</th>\n",
       "      <td>0</td>\n",
       "      <td>0.000000</td>\n",
       "    </tr>\n",
       "    <tr>\n",
       "      <th>date</th>\n",
       "      <td>0</td>\n",
       "      <td>0.000000</td>\n",
       "    </tr>\n",
       "    <tr>\n",
       "      <th>floors</th>\n",
       "      <td>0</td>\n",
       "      <td>0.000000</td>\n",
       "    </tr>\n",
       "    <tr>\n",
       "      <th>sqft_lot</th>\n",
       "      <td>0</td>\n",
       "      <td>0.000000</td>\n",
       "    </tr>\n",
       "    <tr>\n",
       "      <th>sqft_living</th>\n",
       "      <td>0</td>\n",
       "      <td>0.000000</td>\n",
       "    </tr>\n",
       "    <tr>\n",
       "      <th>bathrooms</th>\n",
       "      <td>0</td>\n",
       "      <td>0.000000</td>\n",
       "    </tr>\n",
       "    <tr>\n",
       "      <th>bedrooms</th>\n",
       "      <td>0</td>\n",
       "      <td>0.000000</td>\n",
       "    </tr>\n",
       "    <tr>\n",
       "      <th>price</th>\n",
       "      <td>0</td>\n",
       "      <td>0.000000</td>\n",
       "    </tr>\n",
       "    <tr>\n",
       "      <th>sqft_lot15</th>\n",
       "      <td>0</td>\n",
       "      <td>0.000000</td>\n",
       "    </tr>\n",
       "  </tbody>\n",
       "</table>\n",
       "</div>"
      ],
      "text/plain": [
       "               total missing values  missing values percentage\n",
       "yr_renovated                   3842                   0.177895\n",
       "waterfront                     2376                   0.110015\n",
       "view                             63                   0.002917\n",
       "id                                0                   0.000000\n",
       "sqft_above                        0                   0.000000\n",
       "sqft_living15                     0                   0.000000\n",
       "long                              0                   0.000000\n",
       "lat                               0                   0.000000\n",
       "zipcode                           0                   0.000000\n",
       "yr_built                          0                   0.000000\n",
       "sqft_basement                     0                   0.000000\n",
       "condition                         0                   0.000000\n",
       "grade                             0                   0.000000\n",
       "date                              0                   0.000000\n",
       "floors                            0                   0.000000\n",
       "sqft_lot                          0                   0.000000\n",
       "sqft_living                       0                   0.000000\n",
       "bathrooms                         0                   0.000000\n",
       "bedrooms                          0                   0.000000\n",
       "price                             0                   0.000000\n",
       "sqft_lot15                        0                   0.000000"
      ]
     },
     "execution_count": 205,
     "metadata": {},
     "output_type": "execute_result"
    }
   ],
   "source": [
    "#percentage of missing values\n",
    "total_percent = (houses_df.isnull().sum()/houses_df.isnull().count()).sort_values(ascending = False)\n",
    "missing_data = pd.concat([missing_data_check,total_percent],\n",
    "                         axis = 1,keys =[\"total missing values\",\"missing values percentage\"])\n",
    "missing_data"
   ]
  },
  {
   "cell_type": "markdown",
   "metadata": {},
   "source": [
    "### observations\n",
    "* \"waterfront\", \"view\" and \"yr_renovated\" contains null values. The percentage of missing value in this columns are 0.110015,0.002917 and 0.177895 respectively."
   ]
  },
  {
   "cell_type": "markdown",
   "metadata": {},
   "source": [
    "#### Data cleaning\n",
    "Since the percentage of the null per column in our dataset is low i opted to drop all the null values in the dataset.\n",
    "\n",
    "    1.Dropping columns that will not be used\n",
    "    2.Dealing with the null values"
   ]
  },
  {
   "cell_type": "code",
   "execution_count": 206,
   "metadata": {},
   "outputs": [],
   "source": [
    "houses_df['view'].fillna('Missing', inplace=True)"
   ]
  },
  {
   "cell_type": "code",
   "execution_count": 207,
   "metadata": {},
   "outputs": [],
   "source": [
    "# Dropping null values in the dataset\n",
    "houses_df.dropna(inplace = True)"
   ]
  },
  {
   "cell_type": "code",
   "execution_count": 208,
   "metadata": {},
   "outputs": [],
   "source": [
    "# # Dropping columns that will not be used in the study\n",
    "houses_df.drop([\"yr_renovated\",\"sqft_above\",\"sqft_basement\",\n",
    "               \"zipcode\",\"sqft_lot15\",\"sqft_living15\",\"date\",\"long\",\"lat\",\"view\"],\n",
    "               axis=1,inplace = True)"
   ]
  },
  {
   "cell_type": "code",
   "execution_count": 209,
   "metadata": {},
   "outputs": [
    {
     "name": "stdout",
     "output_type": "stream",
     "text": [
      "The dataset have duplicates\n"
     ]
    }
   ],
   "source": [
    "#Checking for duplicate value\n",
    "row,col = houses_df.shape\n",
    "houses_df.drop_duplicates(inplace=True)\n",
    "\n",
    "if houses_df.shape==(row,col):\n",
    "    print('The dataset doesn\\'t have any duplicates')\n",
    "else:\n",
    "    print('The dataset have duplicates')"
   ]
  },
  {
   "cell_type": "markdown",
   "metadata": {},
   "source": [
    "#### Observation\n",
    "* The dataframe has no duplicated values"
   ]
  },
  {
   "cell_type": "markdown",
   "metadata": {},
   "source": [
    "#### b) Bivariate"
   ]
  },
  {
   "cell_type": "code",
   "execution_count": 210,
   "metadata": {},
   "outputs": [
    {
     "data": {
      "image/png": "[encoded data removed]",
      "text/plain": [
       "<Figure size 720x720 with 2 Axes>"
      ]
     },
     "metadata": {
      "needs_background": "light"
     },
     "output_type": "display_data"
    }
   ],
   "source": [
    "# plotting a heatmap\n",
    "# It shows the correlation between different column pairs\n",
    "plt.figure(figsize=(10, 10))\n",
    "cmap = sns.diverging_palette(220,20,n=200)\n",
    "heatmap = sns.heatmap(\n",
    "    houses_df.corr(),vmin=-1, vmax=1,center = 0,\n",
    "    annot=True,cmap=cmap,linewidths=2, linecolor='black')\n",
    "heatmap.set_title('Correlation Heatmap', fontdict={'fontsize':18}, pad=12);"
   ]
  },
  {
   "cell_type": "markdown",
   "metadata": {},
   "source": [
    "### Exploring 'price' column\n",
    "1. Generate a heatmap to explore the price column\n",
    "2. Compute the correlation coefficient for price column with other columns\n",
    "3. Since 'price' column is our dependent variable i will analyse to see it relates with the independent variables\n"
   ]
  },
  {
   "cell_type": "code",
   "execution_count": 211,
   "metadata": {},
   "outputs": [
    {
     "name": "stdout",
     "output_type": "stream",
     "text": [
      "count: 15807.0\n",
      "Mean of the price: 541543.7457455557\n",
      "Standard deviation of mean: 373950.82962419494\n",
      "Minimum value for price: 82000.0\n",
      "Lower quantile for mprice: 321000.0\n",
      "median for price: 450000.0\n",
      "Upper quantile for the price: 644750.0\n",
      "Maximum value for the price: 7700000.0\n"
     ]
    }
   ],
   "source": [
    "#descriptive statistics summary\n",
    "summary_statistics = houses_df.price.describe()\n",
    "print(\"count:\",summary_statistics[0])\n",
    "print(\"Mean of the price:\",summary_statistics[1])\n",
    "print(\"Standard deviation of mean:\",summary_statistics[2])\n",
    "print(\"Minimum value for price:\",summary_statistics[3])\n",
    "print(\"Lower quantile for mprice:\",summary_statistics[4])\n",
    "print(\"median for price:\",summary_statistics[5])\n",
    "print(\"Upper quantile for the price:\",summary_statistics[6])\n",
    "print(\"Maximum value for the price:\",summary_statistics[7])"
   ]
  },
  {
   "cell_type": "code",
   "execution_count": 212,
   "metadata": {},
   "outputs": [
    {
     "data": {
      "image/png": "[encoded data removed]",
      "text/plain": [
       "<Figure size 576x864 with 2 Axes>"
      ]
     },
     "metadata": {
      "needs_background": "light"
     },
     "output_type": "display_data"
    }
   ],
   "source": [
    "# plotting a heat map\n",
    "# to show the correlation of price column with the independent variables \n",
    "plt.figure(figsize=(8, 12))\n",
    "heatmap = sns.heatmap(\n",
    "    houses_df.corr()[['price']].sort_values(by='price',ascending=False),\n",
    "    vmin=-1, vmax=1, annot=True,linewidths=2, linecolor='black')\n",
    "heatmap.set_title('Features Correlating with Sales Price', fontdict={'fontsize':18}, pad=16);"
   ]
  },
  {
   "cell_type": "markdown",
   "metadata": {},
   "source": [
    "### Observations\n",
    "There is a high correlation between sqft_living and bathroom with the price column"
   ]
  },
  {
   "cell_type": "code",
   "execution_count": 213,
   "metadata": {},
   "outputs": [
    {
     "name": "stdout",
     "output_type": "stream",
     "text": [
      "Count of outliers: 835\n"
     ]
    }
   ],
   "source": [
    "# function for checking for outliers\n",
    "def outlier(data):\n",
    "    q1=data.quantile(0.25)\n",
    "    q3=data.quantile(0.75)\n",
    "    IQR=q3-q1\n",
    "    outliers = data[((data<(q1-1.5*IQR)) | (data>(q3+1.5*IQR)))]\n",
    "    return outliers\n",
    "# Checking the number of outliers in the 'price' column\n",
    "print(\"Count of outliers:\",outlier(houses_df.price).count())"
   ]
  },
  {
   "cell_type": "code",
   "execution_count": 214,
   "metadata": {},
   "outputs": [
    {
     "name": "stdout",
     "output_type": "stream",
     "text": [
      "Skewness: 4.287\n",
      "Kurtosis: 38.871\n"
     ]
    }
   ],
   "source": [
    "#skewness and kurtosis\n",
    "print(\"Skewness:\",round(houses_df['price'].skew(),3))\n",
    "print(\"Kurtosis:\",round(houses_df['price'].kurt(),3))"
   ]
  },
  {
   "cell_type": "code",
   "execution_count": 215,
   "metadata": {},
   "outputs": [
    {
     "data": {
      "image/png": "[encoded data removed]",
      "text/plain": [
       "<Figure size 720x432 with 1 Axes>"
      ]
     },
     "metadata": {
      "needs_background": "light"
     },
     "output_type": "display_data"
    }
   ],
   "source": [
    "# Checking the distribution of price column\n",
    "# sns.distplot(np.log(houses_df[\"price\"]));\n",
    "plt.figure(figsize=(10, 6))\n",
    "sns.distplot(houses_df[\"price\"]);"
   ]
  },
  {
   "cell_type": "markdown",
   "metadata": {},
   "source": [
    "### Observations Of The Distribution Plot Of 'price' Column\n",
    "1. Our plot shows that our data is not normally distributed.\n",
    "2. Our plot shows that the price column displaces a Leptokurtic kurtosis\n",
    "3. Our plot shows that the price column is Highly positively skewed\n"
   ]
  },
  {
   "cell_type": "markdown",
   "metadata": {},
   "source": [
    "## Linear regression assumptions\n",
    "### a) Linearity\n",
    "#### Relationship of 'price' column with numerical variables"
   ]
  },
  {
   "cell_type": "code",
   "execution_count": 216,
   "metadata": {},
   "outputs": [
    {
     "data": {
      "text/plain": [
       "sqft_living    0.706531\n",
       "bathrooms      0.527292\n",
       "Name: price, dtype: float64"
      ]
     },
     "execution_count": 216,
     "metadata": {},
     "output_type": "execute_result"
    }
   ],
   "source": [
    "# to show the most correlated columns with price columns\n",
    "PriceCorr = houses_df.corr()['price']\n",
    "filteredcorr = PriceCorr[((PriceCorr >= .5) | (PriceCorr <= -.5)) & (PriceCorr !=1.000)].sort_values(ascending = False)\n",
    "filteredcorr"
   ]
  },
  {
   "cell_type": "code",
   "execution_count": 217,
   "metadata": {},
   "outputs": [],
   "source": [
    "# Pairplot to show linearity\n",
    "# sns.pairplot(houses_df);"
   ]
  },
  {
   "cell_type": "code",
   "execution_count": 218,
   "metadata": {},
   "outputs": [
    {
     "data": {
      "image/png": "[encoded data removed]",
      "text/plain": [
       "<Figure size 432x288 with 1 Axes>"
      ]
     },
     "metadata": {
      "needs_background": "light"
     },
     "output_type": "display_data"
    }
   ],
   "source": [
    "# A scatter plot between prie and sqft_living \n",
    "living = houses_df[\"sqft_living\"]\n",
    "price = houses_df[\"price\"]\n",
    "sns.scatterplot(data = houses_df,x = living,y = price);"
   ]
  },
  {
   "cell_type": "code",
   "execution_count": 219,
   "metadata": {},
   "outputs": [
    {
     "data": {
      "image/png": "[encoded data removed]",
      "text/plain": [
       "<Figure size 432x288 with 1 Axes>"
      ]
     },
     "metadata": {
      "needs_background": "light"
     },
     "output_type": "display_data"
    }
   ],
   "source": [
    "# A scatter plot between prie and bathrooms\n",
    "bathrooms = houses_df[\"bathrooms\"]\n",
    "price = houses_df[\"price\"]\n",
    "sns.scatterplot(data = houses_df,x = bathrooms,y = price);"
   ]
  },
  {
   "cell_type": "markdown",
   "metadata": {},
   "source": [
    "### Observations\n",
    "* 'sqft_living' and 'bathrooms' seem to be linearly related with 'price' column. This relationships are positive which means that as one variable increases the other increases."
   ]
  },
  {
   "cell_type": "markdown",
   "metadata": {},
   "source": [
    "#### Relationship of 'price' column with categorical variables"
   ]
  },
  {
   "cell_type": "code",
   "execution_count": 220,
   "metadata": {},
   "outputs": [
    {
     "data": {
      "image/png": "[encoded data removed]",
      "text/plain": [
       "<Figure size 720x432 with 1 Axes>"
      ]
     },
     "metadata": {
      "needs_background": "light"
     },
     "output_type": "display_data"
    }
   ],
   "source": [
    "# Boxplot to show relationship between waterfront and prices\n",
    "waterfront = houses_df.waterfront\n",
    "data = pd.concat([houses_df['price'], houses_df[\"waterfront\"]], axis=1)\n",
    "fig, ax = plt.subplots(figsize=(10,6))\n",
    "fig = sns.boxplot(x=waterfront,y=price,data=data);"
   ]
  },
  {
   "cell_type": "code",
   "execution_count": 221,
   "metadata": {},
   "outputs": [
    {
     "data": {
      "image/png": "[encoded data removed]",
      "text/plain": [
       "<Figure size 720x432 with 1 Axes>"
      ]
     },
     "metadata": {
      "needs_background": "light"
     },
     "output_type": "display_data"
    }
   ],
   "source": [
    "# Boxplot to show relationship between grade and prices\n",
    "grade = houses_df.grade\n",
    "data = pd.concat([houses_df['price'], houses_df[\"grade\"]], axis=1)\n",
    "fig, ax = plt.subplots(figsize=(10,6))\n",
    "fig = sns.boxplot(x=grade,y=price,data=data)\n",
    "ax.set_xticklabels(ax.get_xticklabels(), rotation=40, ha=\"right\");"
   ]
  },
  {
   "cell_type": "code",
   "execution_count": 222,
   "metadata": {},
   "outputs": [
    {
     "data": {
      "image/png": "[encoded data removed]",
      "text/plain": [
       "<Figure size 720x432 with 1 Axes>"
      ]
     },
     "metadata": {
      "needs_background": "light"
     },
     "output_type": "display_data"
    }
   ],
   "source": [
    "# Boxplot to show relationship between condition and prices\n",
    "condition = houses_df.condition\n",
    "data = pd.concat([houses_df['price'], houses_df[\"condition\"]], axis=1)\n",
    "fig, ax = plt.subplots(figsize=(10,6))\n",
    "fig = sns.boxplot(x=condition,y=price,data=data)\n",
    "fig.axis(ymin=0);\n",
    "#ax.set_xticklabels(ax.get_xticklabels(), rotation=40, ha=\"right\");"
   ]
  },
  {
   "cell_type": "markdown",
   "metadata": {},
   "source": [
    "### Observations\n",
    "* 'waterfront' and \"price seems to be related because the houses that have a waterfront have higher prices.\n",
    "* The relationship seems to be stronger in the case of 'condition' where the box plot shows how prices decrease with the condition of the house.\n",
    "* 'grade' and 'price' are not related."
   ]
  },
  {
   "cell_type": "markdown",
   "metadata": {},
   "source": [
    "### b) Normality\n",
    "Density plots to show the distributions of values in different columns"
   ]
  },
  {
   "cell_type": "code",
   "execution_count": 223,
   "metadata": {},
   "outputs": [
    {
     "name": "stdout",
     "output_type": "stream",
     "text": [
      "Skewness: 4.287\n",
      "Kurtosis: 38.871\n"
     ]
    },
    {
     "data": {
      "image/png": "[encoded data removed]",
      "text/plain": [
       "<Figure size 432x288 with 1 Axes>"
      ]
     },
     "metadata": {
      "needs_background": "light"
     },
     "output_type": "display_data"
    }
   ],
   "source": [
    "#skewness and kurtosis\n",
    "print(\"Skewness:\",round(houses_df['price'].skew(),3))\n",
    "print(\"Kurtosis:\",round(houses_df['price'].kurt(),3))\n",
    "\n",
    "# Distribution of prices\n",
    "sns.distplot(houses_df['price']); # Density plot"
   ]
  },
  {
   "cell_type": "code",
   "execution_count": 224,
   "metadata": {},
   "outputs": [
    {
     "name": "stdout",
     "output_type": "stream",
     "text": [
      "Skewness: 1.505\n",
      "Kurtosis: 5.764\n"
     ]
    },
    {
     "data": {
      "image/png": "[encoded data removed]",
      "text/plain": [
       "<Figure size 432x288 with 1 Axes>"
      ]
     },
     "metadata": {
      "needs_background": "light"
     },
     "output_type": "display_data"
    }
   ],
   "source": [
    "#skewness and kurtosis\n",
    "print(\"Skewness:\",round(houses_df['sqft_living'].skew(),3))\n",
    "print(\"Kurtosis:\",round(houses_df['sqft_living'].kurt(),3))\n",
    "\n",
    "# Distribution of sqft_living\n",
    "sns.distplot(houses_df['sqft_living']);  # Density plot"
   ]
  },
  {
   "cell_type": "code",
   "execution_count": 225,
   "metadata": {},
   "outputs": [
    {
     "name": "stdout",
     "output_type": "stream",
     "text": [
      "Skewness: 0.524\n",
      "Kurtosis: 1.367\n"
     ]
    },
    {
     "data": {
      "image/png": "[encoded data removed]",
      "text/plain": [
       "<Figure size 432x288 with 1 Axes>"
      ]
     },
     "metadata": {
      "needs_background": "light"
     },
     "output_type": "display_data"
    }
   ],
   "source": [
    "#skewness and kurtosis\n",
    "print(\"Skewness:\",round(houses_df['bathrooms'].skew(),3))\n",
    "print(\"Kurtosis:\",round(houses_df['bathrooms'].kurt(),3))\n",
    "\n",
    "# Distribution of bathrooms\n",
    "sns.distplot(houses_df['bathrooms']); # Density plot"
   ]
  },
  {
   "cell_type": "markdown",
   "metadata": {},
   "source": [
    "## Simple linear regression Model\n",
    "For our  model, we are going to take Square footage of living space in the home as the independent variable and price as the dependent variable."
   ]
  },
  {
   "cell_type": "markdown",
   "metadata": {},
   "source": [
    "#### Determining the x and y variables"
   ]
  },
  {
   "cell_type": "code",
   "execution_count": 286,
   "metadata": {},
   "outputs": [],
   "source": [
    "# independent variable\n",
    "\n",
    "X_baseline = houses_df['sqft_living']\n",
    "\n",
    "# dependent variable\n",
    "\n",
    "y = houses_df['price']"
   ]
  },
  {
   "cell_type": "markdown",
   "metadata": {},
   "source": [
    "#### Creating the model"
   ]
  },
  {
   "cell_type": "code",
   "execution_count": 287,
   "metadata": {},
   "outputs": [],
   "source": [
    "# Creating a simple linear regression model\n",
    "\n",
    "model = sm.OLS(endog=y, exog=sm.add_constant(X_baseline))  # Ordinary Least Squares \n",
    "\n",
    "results = model.fit()   # Fitting the model"
   ]
  },
  {
   "cell_type": "code",
   "execution_count": 288,
   "metadata": {},
   "outputs": [
    {
     "data": {
      "text/html": [
       "<table class=\"simpletable\">\n",
       "<caption>OLS Regression Results</caption>\n",
       "<tr>\n",
       "  <th>Dep. Variable:</th>          <td>price</td>      <th>  R-squared:         </th>  <td>   0.499</td>  \n",
       "</tr>\n",
       "<tr>\n",
       "  <th>Model:</th>                   <td>OLS</td>       <th>  Adj. R-squared:    </th>  <td>   0.499</td>  \n",
       "</tr>\n",
       "<tr>\n",
       "  <th>Method:</th>             <td>Least Squares</td>  <th>  F-statistic:       </th>  <td>1.575e+04</td> \n",
       "</tr>\n",
       "<tr>\n",
       "  <th>Date:</th>             <td>Wed, 28 Sep 2022</td> <th>  Prob (F-statistic):</th>   <td>  0.00</td>   \n",
       "</tr>\n",
       "<tr>\n",
       "  <th>Time:</th>                 <td>02:07:53</td>     <th>  Log-Likelihood:    </th> <td>-2.1980e+05</td>\n",
       "</tr>\n",
       "<tr>\n",
       "  <th>No. Observations:</th>      <td> 15807</td>      <th>  AIC:               </th>  <td>4.396e+05</td> \n",
       "</tr>\n",
       "<tr>\n",
       "  <th>Df Residuals:</th>          <td> 15805</td>      <th>  BIC:               </th>  <td>4.396e+05</td> \n",
       "</tr>\n",
       "<tr>\n",
       "  <th>Df Model:</th>              <td>     1</td>      <th>                     </th>      <td> </td>     \n",
       "</tr>\n",
       "<tr>\n",
       "  <th>Covariance Type:</th>      <td>nonrobust</td>    <th>                     </th>      <td> </td>     \n",
       "</tr>\n",
       "</table>\n",
       "<table class=\"simpletable\">\n",
       "<tr>\n",
       "       <td></td>          <th>coef</th>     <th>std err</th>      <th>t</th>      <th>P>|t|</th>  <th>[0.025</th>    <th>0.975]</th>  \n",
       "</tr>\n",
       "<tr>\n",
       "  <th>const</th>       <td>-5.752e+04</td> <td> 5216.476</td> <td>  -11.027</td> <td> 0.000</td> <td>-6.77e+04</td> <td>-4.73e+04</td>\n",
       "</tr>\n",
       "<tr>\n",
       "  <th>sqft_living</th> <td>  287.3286</td> <td>    2.289</td> <td>  125.513</td> <td> 0.000</td> <td>  282.841</td> <td>  291.816</td>\n",
       "</tr>\n",
       "</table>\n",
       "<table class=\"simpletable\">\n",
       "<tr>\n",
       "  <th>Omnibus:</th>       <td>11317.072</td> <th>  Durbin-Watson:     </th>  <td>   1.971</td> \n",
       "</tr>\n",
       "<tr>\n",
       "  <th>Prob(Omnibus):</th>  <td> 0.000</td>   <th>  Jarque-Bera (JB):  </th> <td>481267.337</td>\n",
       "</tr>\n",
       "<tr>\n",
       "  <th>Skew:</th>           <td> 2.958</td>   <th>  Prob(JB):          </th>  <td>    0.00</td> \n",
       "</tr>\n",
       "<tr>\n",
       "  <th>Kurtosis:</th>       <td>29.376</td>   <th>  Cond. No.          </th>  <td>5.65e+03</td> \n",
       "</tr>\n",
       "</table><br/><br/>Notes:<br/>[1] Standard Errors assume that the covariance matrix of the errors is correctly specified.<br/>[2] The condition number is large, 5.65e+03. This might indicate that there are<br/>strong multicollinearity or other numerical problems."
      ],
      "text/plain": [
       "<class 'statsmodels.iolib.summary.Summary'>\n",
       "\"\"\"\n",
       "                            OLS Regression Results                            \n",
       "==============================================================================\n",
       "Dep. Variable:                  price   R-squared:                       0.499\n",
       "Model:                            OLS   Adj. R-squared:                  0.499\n",
       "Method:                 Least Squares   F-statistic:                 1.575e+04\n",
       "Date:                Wed, 28 Sep 2022   Prob (F-statistic):               0.00\n",
       "Time:                        02:07:53   Log-Likelihood:            -2.1980e+05\n",
       "No. Observations:               15807   AIC:                         4.396e+05\n",
       "Df Residuals:                   15805   BIC:                         4.396e+05\n",
       "Df Model:                           1                                         \n",
       "Covariance Type:            nonrobust                                         \n",
       "===============================================================================\n",
       "                  coef    std err          t      P>|t|      [0.025      0.975]\n",
       "-------------------------------------------------------------------------------\n",
       "const       -5.752e+04   5216.476    -11.027      0.000   -6.77e+04   -4.73e+04\n",
       "sqft_living   287.3286      2.289    125.513      0.000     282.841     291.816\n",
       "==============================================================================\n",
       "Omnibus:                    11317.072   Durbin-Watson:                   1.971\n",
       "Prob(Omnibus):                  0.000   Jarque-Bera (JB):           481267.337\n",
       "Skew:                           2.958   Prob(JB):                         0.00\n",
       "Kurtosis:                      29.376   Cond. No.                     5.65e+03\n",
       "==============================================================================\n",
       "\n",
       "Notes:\n",
       "[1] Standard Errors assume that the covariance matrix of the errors is correctly specified.\n",
       "[2] The condition number is large, 5.65e+03. This might indicate that there are\n",
       "strong multicollinearity or other numerical problems.\n",
       "\"\"\""
      ]
     },
     "execution_count": 288,
     "metadata": {},
     "output_type": "execute_result"
    }
   ],
   "source": [
    "# model summary\n",
    "results.summary()"
   ]
  },
  {
   "cell_type": "code",
   "execution_count": 229,
   "metadata": {},
   "outputs": [
    {
     "data": {
      "text/plain": [
       "const         -57522.366075\n",
       "sqft_living      287.328598\n",
       "dtype: float64"
      ]
     },
     "execution_count": 229,
     "metadata": {},
     "output_type": "execute_result"
    }
   ],
   "source": [
    "results.params"
   ]
  },
  {
   "cell_type": "markdown",
   "metadata": {},
   "source": [
    "### Interpreting the model"
   ]
  },
  {
   "cell_type": "markdown",
   "metadata": {},
   "source": [
    "Our model smmary tells us that:\n",
    "\n",
    "1. The model is statistically significant having F-statistic p-value below the alpha,given that the alpha is 0.05.\n",
    "\n",
    "2. The model coefficients (`const` and `sqft_living`) are both statistically significant having t-statistic p-values below the alpha,given that the alpha is 0.05.\n",
    "\n",
    "3. The model explains about 50% of the variance in price.\n",
    "\n",
    "4. If a house's sqft_living is at 0 , we would expect a decrese in the price by about about 55168.993208 .\n",
    "\n",
    "5. An increase of 1 in sqft_living is associated with an increase of about 286.150202 in price.\n",
    "\n",
    "           Our regression line is:\n",
    "\n",
    "$$ \\hat{price} =  -55168.993208 + 286.150202 \\ sqft\\_living $$\n"
   ]
  },
  {
   "cell_type": "code",
   "execution_count": 230,
   "metadata": {},
   "outputs": [],
   "source": [
    "# ### Evaluate the performance\n",
    "# * Mean absolute error \n",
    "# * Mean Square Error\n",
    "# * Root mean Squared Error"
   ]
  },
  {
   "cell_type": "code",
   "execution_count": 231,
   "metadata": {},
   "outputs": [],
   "source": [
    "# y_pred = results.predict(sm.add_constant(X_baseline))\n",
    "# print(f\"Mean absolute error: {np.round(mean_absolute_error(y, y_pred), 4)}\")\n",
    "# print(f\"Mean squared error: {np.round(mean_squared_error(y, y_pred), 4)}\")\n",
    "# print(f\"Root mean squared error: {np.round(np.sqrt(mean_squared_error(y, y_pred)), 4)}\")"
   ]
  },
  {
   "cell_type": "code",
   "execution_count": 232,
   "metadata": {},
   "outputs": [],
   "source": [
    "# #### Interpreting the Mean absolute error and root mean squared error\n",
    "\n",
    "# It means that our model is off by about 174688.5047 USD in a given prediction.\n",
    "\n",
    "# #### Interpreting the root mean squared error\n",
    "\n",
    "# It means that our model is off by about 263552.483 USD in a given prediction."
   ]
  },
  {
   "cell_type": "code",
   "execution_count": 233,
   "metadata": {},
   "outputs": [
    {
     "data": {
      "image/png": "[encoded data removed]",
      "text/plain": [
       "<Figure size 432x288 with 1 Axes>"
      ]
     },
     "metadata": {
      "needs_background": "light"
     },
     "output_type": "display_data"
    }
   ],
   "source": [
    "# Visualizing our model\n",
    "sm.graphics.plot_fit(results, \"sqft_living\")\n",
    "plt.show()"
   ]
  },
  {
   "cell_type": "code",
   "execution_count": 234,
   "metadata": {},
   "outputs": [
    {
     "data": {
      "image/png": "[encoded data removed]",
      "text/plain": [
       "<Figure size 432x288 with 1 Axes>"
      ]
     },
     "metadata": {
      "needs_background": "light"
     },
     "output_type": "display_data"
    }
   ],
   "source": [
    "# visualizing the distribution of the residuals\n",
    "fig, ax = plt.subplots()\n",
    "ax.scatter(houses_df[\"price\"], results.resid)\n",
    "ax.axhline(y=0, color=\"black\")\n",
    "ax.set_xlabel(\"sqft_living\")\n",
    "ax.set_ylabel(\"residuals\");"
   ]
  },
  {
   "cell_type": "code",
   "execution_count": 235,
   "metadata": {},
   "outputs": [],
   "source": [
    "# # independent variable\n",
    "\n",
    "# X_baseline_log = np.log(houses_df['sqft_living'])\n",
    "\n",
    "# # dependent variable\n",
    "\n",
    "# y_log = np.log(houses_df['price'])"
   ]
  },
  {
   "cell_type": "code",
   "execution_count": 236,
   "metadata": {},
   "outputs": [],
   "source": [
    "# # Creating a simple linear regression model\n",
    "\n",
    "# log_model = sm.OLS(endog=y_log, exog=sm.add_constant(X_baseline_log))  # Ordinary Least Squares \n",
    "\n",
    "# log_result = log_model.fit()   # Fitting the model"
   ]
  },
  {
   "cell_type": "code",
   "execution_count": 237,
   "metadata": {},
   "outputs": [],
   "source": [
    "# log_result.summary()"
   ]
  },
  {
   "cell_type": "markdown",
   "metadata": {},
   "source": [
    "## Multiple linear regression"
   ]
  },
  {
   "cell_type": "code",
   "execution_count": 238,
   "metadata": {},
   "outputs": [],
   "source": [
    "# independent variable\n",
    "x_bed = houses_df[['sqft_living','bedrooms']]\n",
    "\n",
    "# dependent variable\n",
    "\n",
    "y_bed = houses_df['price']"
   ]
  },
  {
   "cell_type": "code",
   "execution_count": 239,
   "metadata": {},
   "outputs": [],
   "source": [
    "bed_model = sm.OLS(endog=y_bed, exog=sm.add_constant(x_bed))  # Ordinary Least Squares \n",
    "\n",
    "bed_result = second_model.fit()   # Fitting the model"
   ]
  },
  {
   "cell_type": "code",
   "execution_count": 240,
   "metadata": {},
   "outputs": [
    {
     "name": "stdout",
     "output_type": "stream",
     "text": [
      "                            OLS Regression Results                            \n",
      "==============================================================================\n",
      "Dep. Variable:                  price   R-squared:                       0.513\n",
      "Model:                            OLS   Adj. R-squared:                  0.513\n",
      "Method:                 Least Squares   F-statistic:                     8315.\n",
      "Date:                Wed, 28 Sep 2022   Prob (F-statistic):               0.00\n",
      "Time:                        02:02:29   Log-Likelihood:            -2.1884e+05\n",
      "No. Observations:               15760   AIC:                         4.377e+05\n",
      "Df Residuals:                   15757   BIC:                         4.377e+05\n",
      "Df Model:                           2                                         \n",
      "Covariance Type:            nonrobust                                         \n",
      "===============================================================================\n",
      "                  coef    std err          t      P>|t|      [0.025      0.975]\n",
      "-------------------------------------------------------------------------------\n",
      "const        7.248e+04   7769.354      9.329      0.000    5.73e+04    8.77e+04\n",
      "sqft_living   320.6363      2.749    116.651      0.000     315.249     326.024\n",
      "bedrooms    -5.905e+04   2699.681    -21.874      0.000   -6.43e+04   -5.38e+04\n",
      "==============================================================================\n",
      "Omnibus:                    10800.658   Durbin-Watson:                   1.971\n",
      "Prob(Omnibus):                  0.000   Jarque-Bera (JB):           407159.841\n",
      "Skew:                           2.806   Prob(JB):                         0.00\n",
      "Kurtosis:                      27.260   Cond. No.                     8.86e+03\n",
      "==============================================================================\n",
      "\n",
      "Notes:\n",
      "[1] Standard Errors assume that the covariance matrix of the errors is correctly specified.\n",
      "[2] The condition number is large, 8.86e+03. This might indicate that there are\n",
      "strong multicollinearity or other numerical problems.\n"
     ]
    }
   ],
   "source": [
    "print(bed_result.summary())"
   ]
  },
  {
   "cell_type": "code",
   "execution_count": 241,
   "metadata": {},
   "outputs": [],
   "source": [
    "# independent variable\n",
    "x_bath = houses_df[['sqft_living','bathrooms']]\n",
    "\n",
    "# dependent variable\n",
    "\n",
    "y_bath = houses_df['price']"
   ]
  },
  {
   "cell_type": "code",
   "execution_count": 242,
   "metadata": {},
   "outputs": [],
   "source": [
    "bath_model = sm.OLS(endog=y_bath, exog=sm.add_constant(x_bath))  # Ordinary Least Squares \n",
    "\n",
    "bath_result = bath_model.fit()   # Fitting the model"
   ]
  },
  {
   "cell_type": "code",
   "execution_count": 243,
   "metadata": {},
   "outputs": [
    {
     "data": {
      "text/html": [
       "<table class=\"simpletable\">\n",
       "<caption>OLS Regression Results</caption>\n",
       "<tr>\n",
       "  <th>Dep. Variable:</th>          <td>price</td>      <th>  R-squared:         </th>  <td>   0.499</td>  \n",
       "</tr>\n",
       "<tr>\n",
       "  <th>Model:</th>                   <td>OLS</td>       <th>  Adj. R-squared:    </th>  <td>   0.499</td>  \n",
       "</tr>\n",
       "<tr>\n",
       "  <th>Method:</th>             <td>Least Squares</td>  <th>  F-statistic:       </th>  <td>   7879.</td>  \n",
       "</tr>\n",
       "<tr>\n",
       "  <th>Date:</th>             <td>Wed, 28 Sep 2022</td> <th>  Prob (F-statistic):</th>   <td>  0.00</td>   \n",
       "</tr>\n",
       "<tr>\n",
       "  <th>Time:</th>                 <td>02:02:29</td>     <th>  Log-Likelihood:    </th> <td>-2.1980e+05</td>\n",
       "</tr>\n",
       "<tr>\n",
       "  <th>No. Observations:</th>      <td> 15807</td>      <th>  AIC:               </th>  <td>4.396e+05</td> \n",
       "</tr>\n",
       "<tr>\n",
       "  <th>Df Residuals:</th>          <td> 15804</td>      <th>  BIC:               </th>  <td>4.396e+05</td> \n",
       "</tr>\n",
       "<tr>\n",
       "  <th>Df Model:</th>              <td>     2</td>      <th>                     </th>      <td> </td>     \n",
       "</tr>\n",
       "<tr>\n",
       "  <th>Covariance Type:</th>      <td>nonrobust</td>    <th>                     </th>      <td> </td>     \n",
       "</tr>\n",
       "</table>\n",
       "<table class=\"simpletable\">\n",
       "<tr>\n",
       "       <td></td>          <th>coef</th>     <th>std err</th>      <th>t</th>      <th>P>|t|</th>  <th>[0.025</th>    <th>0.975]</th>  \n",
       "</tr>\n",
       "<tr>\n",
       "  <th>const</th>       <td>-5.231e+04</td> <td> 6215.071</td> <td>   -8.417</td> <td> 0.000</td> <td>-6.45e+04</td> <td>-4.01e+04</td>\n",
       "</tr>\n",
       "<tr>\n",
       "  <th>sqft_living</th> <td>  291.3829</td> <td>    3.487</td> <td>   83.559</td> <td> 0.000</td> <td>  284.548</td> <td>  298.218</td>\n",
       "</tr>\n",
       "<tr>\n",
       "  <th>bathrooms</th>   <td>-6441.5403</td> <td> 4179.544</td> <td>   -1.541</td> <td> 0.123</td> <td>-1.46e+04</td> <td> 1750.844</td>\n",
       "</tr>\n",
       "</table>\n",
       "<table class=\"simpletable\">\n",
       "<tr>\n",
       "  <th>Omnibus:</th>       <td>11300.492</td> <th>  Durbin-Watson:     </th>  <td>   1.971</td> \n",
       "</tr>\n",
       "<tr>\n",
       "  <th>Prob(Omnibus):</th>  <td> 0.000</td>   <th>  Jarque-Bera (JB):  </th> <td>479013.822</td>\n",
       "</tr>\n",
       "<tr>\n",
       "  <th>Skew:</th>           <td> 2.953</td>   <th>  Prob(JB):          </th>  <td>    0.00</td> \n",
       "</tr>\n",
       "<tr>\n",
       "  <th>Kurtosis:</th>       <td>29.314</td>   <th>  Cond. No.          </th>  <td>7.32e+03</td> \n",
       "</tr>\n",
       "</table><br/><br/>Notes:<br/>[1] Standard Errors assume that the covariance matrix of the errors is correctly specified.<br/>[2] The condition number is large, 7.32e+03. This might indicate that there are<br/>strong multicollinearity or other numerical problems."
      ],
      "text/plain": [
       "<class 'statsmodels.iolib.summary.Summary'>\n",
       "\"\"\"\n",
       "                            OLS Regression Results                            \n",
       "==============================================================================\n",
       "Dep. Variable:                  price   R-squared:                       0.499\n",
       "Model:                            OLS   Adj. R-squared:                  0.499\n",
       "Method:                 Least Squares   F-statistic:                     7879.\n",
       "Date:                Wed, 28 Sep 2022   Prob (F-statistic):               0.00\n",
       "Time:                        02:02:29   Log-Likelihood:            -2.1980e+05\n",
       "No. Observations:               15807   AIC:                         4.396e+05\n",
       "Df Residuals:                   15804   BIC:                         4.396e+05\n",
       "Df Model:                           2                                         \n",
       "Covariance Type:            nonrobust                                         \n",
       "===============================================================================\n",
       "                  coef    std err          t      P>|t|      [0.025      0.975]\n",
       "-------------------------------------------------------------------------------\n",
       "const       -5.231e+04   6215.071     -8.417      0.000   -6.45e+04   -4.01e+04\n",
       "sqft_living   291.3829      3.487     83.559      0.000     284.548     298.218\n",
       "bathrooms   -6441.5403   4179.544     -1.541      0.123   -1.46e+04    1750.844\n",
       "==============================================================================\n",
       "Omnibus:                    11300.492   Durbin-Watson:                   1.971\n",
       "Prob(Omnibus):                  0.000   Jarque-Bera (JB):           479013.822\n",
       "Skew:                           2.953   Prob(JB):                         0.00\n",
       "Kurtosis:                      29.314   Cond. No.                     7.32e+03\n",
       "==============================================================================\n",
       "\n",
       "Notes:\n",
       "[1] Standard Errors assume that the covariance matrix of the errors is correctly specified.\n",
       "[2] The condition number is large, 7.32e+03. This might indicate that there are\n",
       "strong multicollinearity or other numerical problems.\n",
       "\"\"\""
      ]
     },
     "execution_count": 243,
     "metadata": {},
     "output_type": "execute_result"
    }
   ],
   "source": [
    "bath_result.summary()"
   ]
  },
  {
   "cell_type": "code",
   "execution_count": null,
   "metadata": {},
   "outputs": [],
   "source": []
  },
  {
   "cell_type": "code",
   "execution_count": 389,
   "metadata": {},
   "outputs": [],
   "source": [
    "x_var = houses_df.drop([\"price\",\"yr_built\",\"id\",\"bathrooms\",\"yr_built\",\"sqft_lot\",\"floors\",],axis =1)\n",
    "y_var = houses_df[\"price\"]"
   ]
  },
  {
   "cell_type": "code",
   "execution_count": 390,
   "metadata": {},
   "outputs": [],
   "source": [
    "X_var = pd.get_dummies(x_var,drop_first=True)"
   ]
  },
  {
   "cell_type": "code",
   "execution_count": 391,
   "metadata": {
    "scrolled": true
   },
   "outputs": [
    {
     "data": {
      "text/html": [
       "<div>\n",
       "<style scoped>\n",
       "    .dataframe tbody tr th:only-of-type {\n",
       "        vertical-align: middle;\n",
       "    }\n",
       "\n",
       "    .dataframe tbody tr th {\n",
       "        vertical-align: top;\n",
       "    }\n",
       "\n",
       "    .dataframe thead th {\n",
       "        text-align: right;\n",
       "    }\n",
       "</style>\n",
       "<table border=\"1\" class=\"dataframe\">\n",
       "  <thead>\n",
       "    <tr style=\"text-align: right;\">\n",
       "      <th></th>\n",
       "      <th>bedrooms</th>\n",
       "      <th>sqft_living</th>\n",
       "      <th>waterfront_YES</th>\n",
       "      <th>condition_Fair</th>\n",
       "      <th>condition_Good</th>\n",
       "      <th>condition_Poor</th>\n",
       "      <th>condition_Very Good</th>\n",
       "      <th>grade_11 Excellent</th>\n",
       "      <th>grade_12 Luxury</th>\n",
       "      <th>grade_13 Mansion</th>\n",
       "      <th>grade_3 Poor</th>\n",
       "      <th>grade_4 Low</th>\n",
       "      <th>grade_5 Fair</th>\n",
       "      <th>grade_6 Low Average</th>\n",
       "      <th>grade_7 Average</th>\n",
       "      <th>grade_8 Good</th>\n",
       "      <th>grade_9 Better</th>\n",
       "    </tr>\n",
       "  </thead>\n",
       "  <tbody>\n",
       "    <tr>\n",
       "      <th>1</th>\n",
       "      <td>3</td>\n",
       "      <td>2570</td>\n",
       "      <td>0</td>\n",
       "      <td>0</td>\n",
       "      <td>0</td>\n",
       "      <td>0</td>\n",
       "      <td>0</td>\n",
       "      <td>0</td>\n",
       "      <td>0</td>\n",
       "      <td>0</td>\n",
       "      <td>0</td>\n",
       "      <td>0</td>\n",
       "      <td>0</td>\n",
       "      <td>0</td>\n",
       "      <td>1</td>\n",
       "      <td>0</td>\n",
       "      <td>0</td>\n",
       "    </tr>\n",
       "    <tr>\n",
       "      <th>3</th>\n",
       "      <td>4</td>\n",
       "      <td>1960</td>\n",
       "      <td>0</td>\n",
       "      <td>0</td>\n",
       "      <td>0</td>\n",
       "      <td>0</td>\n",
       "      <td>1</td>\n",
       "      <td>0</td>\n",
       "      <td>0</td>\n",
       "      <td>0</td>\n",
       "      <td>0</td>\n",
       "      <td>0</td>\n",
       "      <td>0</td>\n",
       "      <td>0</td>\n",
       "      <td>1</td>\n",
       "      <td>0</td>\n",
       "      <td>0</td>\n",
       "    </tr>\n",
       "    <tr>\n",
       "      <th>4</th>\n",
       "      <td>3</td>\n",
       "      <td>1680</td>\n",
       "      <td>0</td>\n",
       "      <td>0</td>\n",
       "      <td>0</td>\n",
       "      <td>0</td>\n",
       "      <td>0</td>\n",
       "      <td>0</td>\n",
       "      <td>0</td>\n",
       "      <td>0</td>\n",
       "      <td>0</td>\n",
       "      <td>0</td>\n",
       "      <td>0</td>\n",
       "      <td>0</td>\n",
       "      <td>0</td>\n",
       "      <td>1</td>\n",
       "      <td>0</td>\n",
       "    </tr>\n",
       "    <tr>\n",
       "      <th>5</th>\n",
       "      <td>4</td>\n",
       "      <td>5420</td>\n",
       "      <td>0</td>\n",
       "      <td>0</td>\n",
       "      <td>0</td>\n",
       "      <td>0</td>\n",
       "      <td>0</td>\n",
       "      <td>1</td>\n",
       "      <td>0</td>\n",
       "      <td>0</td>\n",
       "      <td>0</td>\n",
       "      <td>0</td>\n",
       "      <td>0</td>\n",
       "      <td>0</td>\n",
       "      <td>0</td>\n",
       "      <td>0</td>\n",
       "      <td>0</td>\n",
       "    </tr>\n",
       "    <tr>\n",
       "      <th>6</th>\n",
       "      <td>3</td>\n",
       "      <td>1715</td>\n",
       "      <td>0</td>\n",
       "      <td>0</td>\n",
       "      <td>0</td>\n",
       "      <td>0</td>\n",
       "      <td>0</td>\n",
       "      <td>0</td>\n",
       "      <td>0</td>\n",
       "      <td>0</td>\n",
       "      <td>0</td>\n",
       "      <td>0</td>\n",
       "      <td>0</td>\n",
       "      <td>0</td>\n",
       "      <td>1</td>\n",
       "      <td>0</td>\n",
       "      <td>0</td>\n",
       "    </tr>\n",
       "  </tbody>\n",
       "</table>\n",
       "</div>"
      ],
      "text/plain": [
       "   bedrooms  sqft_living  waterfront_YES  condition_Fair  condition_Good  \\\n",
       "1         3         2570               0               0               0   \n",
       "3         4         1960               0               0               0   \n",
       "4         3         1680               0               0               0   \n",
       "5         4         5420               0               0               0   \n",
       "6         3         1715               0               0               0   \n",
       "\n",
       "   condition_Poor  condition_Very Good  grade_11 Excellent  grade_12 Luxury  \\\n",
       "1               0                    0                   0                0   \n",
       "3               0                    1                   0                0   \n",
       "4               0                    0                   0                0   \n",
       "5               0                    0                   1                0   \n",
       "6               0                    0                   0                0   \n",
       "\n",
       "   grade_13 Mansion  grade_3 Poor  grade_4 Low  grade_5 Fair  \\\n",
       "1                 0             0            0             0   \n",
       "3                 0             0            0             0   \n",
       "4                 0             0            0             0   \n",
       "5                 0             0            0             0   \n",
       "6                 0             0            0             0   \n",
       "\n",
       "   grade_6 Low Average  grade_7 Average  grade_8 Good  grade_9 Better  \n",
       "1                    0                1             0               0  \n",
       "3                    0                1             0               0  \n",
       "4                    0                0             1               0  \n",
       "5                    0                0             0               0  \n",
       "6                    0                1             0               0  "
      ]
     },
     "execution_count": 391,
     "metadata": {},
     "output_type": "execute_result"
    }
   ],
   "source": [
    "X_var.head()"
   ]
  },
  {
   "cell_type": "code",
   "execution_count": 392,
   "metadata": {},
   "outputs": [],
   "source": [
    "mlr_model = sm.OLS(endog = y_var ,exog = sm.add_constant(X_var))\n",
    "mlr_reg = mlr_model.fit()"
   ]
  },
  {
   "cell_type": "code",
   "execution_count": 394,
   "metadata": {},
   "outputs": [
    {
     "data": {
      "text/html": [
       "<table class=\"simpletable\">\n",
       "<caption>OLS Regression Results</caption>\n",
       "<tr>\n",
       "  <th>Dep. Variable:</th>          <td>price</td>      <th>  R-squared:         </th>  <td>   0.633</td>  \n",
       "</tr>\n",
       "<tr>\n",
       "  <th>Model:</th>                   <td>OLS</td>       <th>  Adj. R-squared:    </th>  <td>   0.632</td>  \n",
       "</tr>\n",
       "<tr>\n",
       "  <th>Method:</th>             <td>Least Squares</td>  <th>  F-statistic:       </th>  <td>   1601.</td>  \n",
       "</tr>\n",
       "<tr>\n",
       "  <th>Date:</th>             <td>Wed, 28 Sep 2022</td> <th>  Prob (F-statistic):</th>   <td>  0.00</td>   \n",
       "</tr>\n",
       "<tr>\n",
       "  <th>Time:</th>                 <td>02:18:25</td>     <th>  Log-Likelihood:    </th> <td>-2.1734e+05</td>\n",
       "</tr>\n",
       "<tr>\n",
       "  <th>No. Observations:</th>      <td> 15807</td>      <th>  AIC:               </th>  <td>4.347e+05</td> \n",
       "</tr>\n",
       "<tr>\n",
       "  <th>Df Residuals:</th>          <td> 15789</td>      <th>  BIC:               </th>  <td>4.349e+05</td> \n",
       "</tr>\n",
       "<tr>\n",
       "  <th>Df Model:</th>              <td>    17</td>      <th>                     </th>      <td> </td>     \n",
       "</tr>\n",
       "<tr>\n",
       "  <th>Covariance Type:</th>      <td>nonrobust</td>    <th>                     </th>      <td> </td>     \n",
       "</tr>\n",
       "</table>\n",
       "<table class=\"simpletable\">\n",
       "<tr>\n",
       "           <td></td>              <th>coef</th>     <th>std err</th>      <th>t</th>      <th>P>|t|</th>  <th>[0.025</th>    <th>0.975]</th>  \n",
       "</tr>\n",
       "<tr>\n",
       "  <th>const</th>               <td> 5.234e+05</td> <td> 1.37e+04</td> <td>   38.112</td> <td> 0.000</td> <td> 4.96e+05</td> <td>  5.5e+05</td>\n",
       "</tr>\n",
       "<tr>\n",
       "  <th>bedrooms</th>            <td>-2.069e+04</td> <td> 2457.850</td> <td>   -8.419</td> <td> 0.000</td> <td>-2.55e+04</td> <td>-1.59e+04</td>\n",
       "</tr>\n",
       "<tr>\n",
       "  <th>sqft_living</th>         <td>  170.7052</td> <td>    3.687</td> <td>   46.304</td> <td> 0.000</td> <td>  163.479</td> <td>  177.931</td>\n",
       "</tr>\n",
       "<tr>\n",
       "  <th>waterfront_YES</th>      <td> 7.952e+05</td> <td>  2.1e+04</td> <td>   37.907</td> <td> 0.000</td> <td> 7.54e+05</td> <td> 8.36e+05</td>\n",
       "</tr>\n",
       "<tr>\n",
       "  <th>condition_Fair</th>      <td> -393.1071</td> <td> 2.01e+04</td> <td>   -0.020</td> <td> 0.984</td> <td>-3.98e+04</td> <td> 3.91e+04</td>\n",
       "</tr>\n",
       "<tr>\n",
       "  <th>condition_Good</th>      <td> 5.512e+04</td> <td> 4242.220</td> <td>   12.994</td> <td> 0.000</td> <td> 4.68e+04</td> <td> 6.34e+04</td>\n",
       "</tr>\n",
       "<tr>\n",
       "  <th>condition_Poor</th>      <td> 5.737e+04</td> <td> 5.24e+04</td> <td>    1.094</td> <td> 0.274</td> <td>-4.54e+04</td> <td>  1.6e+05</td>\n",
       "</tr>\n",
       "<tr>\n",
       "  <th>condition_Very Good</th> <td> 1.415e+05</td> <td> 6857.051</td> <td>   20.641</td> <td> 0.000</td> <td> 1.28e+05</td> <td> 1.55e+05</td>\n",
       "</tr>\n",
       "<tr>\n",
       "  <th>grade_11 Excellent</th>  <td>  2.37e+05</td> <td> 1.57e+04</td> <td>   15.075</td> <td> 0.000</td> <td> 2.06e+05</td> <td> 2.68e+05</td>\n",
       "</tr>\n",
       "<tr>\n",
       "  <th>grade_12 Luxury</th>     <td> 8.032e+05</td> <td> 2.97e+04</td> <td>   27.072</td> <td> 0.000</td> <td> 7.45e+05</td> <td> 8.61e+05</td>\n",
       "</tr>\n",
       "<tr>\n",
       "  <th>grade_13 Mansion</th>    <td>  1.95e+06</td> <td>    7e+04</td> <td>   27.876</td> <td> 0.000</td> <td> 1.81e+06</td> <td> 2.09e+06</td>\n",
       "</tr>\n",
       "<tr>\n",
       "  <th>grade_3 Poor</th>        <td> -4.71e+05</td> <td> 2.27e+05</td> <td>   -2.073</td> <td> 0.038</td> <td>-9.16e+05</td> <td>-2.57e+04</td>\n",
       "</tr>\n",
       "<tr>\n",
       "  <th>grade_4 Low</th>         <td>  -4.3e+05</td> <td> 5.81e+04</td> <td>   -7.397</td> <td> 0.000</td> <td>-5.44e+05</td> <td>-3.16e+05</td>\n",
       "</tr>\n",
       "<tr>\n",
       "  <th>grade_5 Fair</th>        <td>-4.521e+05</td> <td>  2.1e+04</td> <td>  -21.538</td> <td> 0.000</td> <td>-4.93e+05</td> <td>-4.11e+05</td>\n",
       "</tr>\n",
       "<tr>\n",
       "  <th>grade_6 Low Average</th> <td> -4.08e+05</td> <td> 1.24e+04</td> <td>  -32.898</td> <td> 0.000</td> <td>-4.32e+05</td> <td>-3.84e+05</td>\n",
       "</tr>\n",
       "<tr>\n",
       "  <th>grade_7 Average</th>     <td>-3.759e+05</td> <td> 1.03e+04</td> <td>  -36.367</td> <td> 0.000</td> <td>-3.96e+05</td> <td>-3.56e+05</td>\n",
       "</tr>\n",
       "<tr>\n",
       "  <th>grade_8 Good</th>        <td>-3.083e+05</td> <td> 9642.613</td> <td>  -31.971</td> <td> 0.000</td> <td>-3.27e+05</td> <td>-2.89e+05</td>\n",
       "</tr>\n",
       "<tr>\n",
       "  <th>grade_9 Better</th>      <td>-1.843e+05</td> <td> 9663.050</td> <td>  -19.072</td> <td> 0.000</td> <td>-2.03e+05</td> <td>-1.65e+05</td>\n",
       "</tr>\n",
       "</table>\n",
       "<table class=\"simpletable\">\n",
       "<tr>\n",
       "  <th>Omnibus:</th>       <td>8988.899</td> <th>  Durbin-Watson:     </th>  <td>   1.972</td> \n",
       "</tr>\n",
       "<tr>\n",
       "  <th>Prob(Omnibus):</th>  <td> 0.000</td>  <th>  Jarque-Bera (JB):  </th> <td>271995.715</td>\n",
       "</tr>\n",
       "<tr>\n",
       "  <th>Skew:</th>           <td> 2.185</td>  <th>  Prob(JB):          </th>  <td>    0.00</td> \n",
       "</tr>\n",
       "<tr>\n",
       "  <th>Kurtosis:</th>       <td>22.846</td>  <th>  Cond. No.          </th>  <td>2.87e+05</td> \n",
       "</tr>\n",
       "</table><br/><br/>Notes:<br/>[1] Standard Errors assume that the covariance matrix of the errors is correctly specified.<br/>[2] The condition number is large, 2.87e+05. This might indicate that there are<br/>strong multicollinearity or other numerical problems."
      ],
      "text/plain": [
       "<class 'statsmodels.iolib.summary.Summary'>\n",
       "\"\"\"\n",
       "                            OLS Regression Results                            \n",
       "==============================================================================\n",
       "Dep. Variable:                  price   R-squared:                       0.633\n",
       "Model:                            OLS   Adj. R-squared:                  0.632\n",
       "Method:                 Least Squares   F-statistic:                     1601.\n",
       "Date:                Wed, 28 Sep 2022   Prob (F-statistic):               0.00\n",
       "Time:                        02:18:25   Log-Likelihood:            -2.1734e+05\n",
       "No. Observations:               15807   AIC:                         4.347e+05\n",
       "Df Residuals:                   15789   BIC:                         4.349e+05\n",
       "Df Model:                          17                                         \n",
       "Covariance Type:            nonrobust                                         \n",
       "=======================================================================================\n",
       "                          coef    std err          t      P>|t|      [0.025      0.975]\n",
       "---------------------------------------------------------------------------------------\n",
       "const                5.234e+05   1.37e+04     38.112      0.000    4.96e+05     5.5e+05\n",
       "bedrooms            -2.069e+04   2457.850     -8.419      0.000   -2.55e+04   -1.59e+04\n",
       "sqft_living           170.7052      3.687     46.304      0.000     163.479     177.931\n",
       "waterfront_YES       7.952e+05    2.1e+04     37.907      0.000    7.54e+05    8.36e+05\n",
       "condition_Fair       -393.1071   2.01e+04     -0.020      0.984   -3.98e+04    3.91e+04\n",
       "condition_Good       5.512e+04   4242.220     12.994      0.000    4.68e+04    6.34e+04\n",
       "condition_Poor       5.737e+04   5.24e+04      1.094      0.274   -4.54e+04     1.6e+05\n",
       "condition_Very Good  1.415e+05   6857.051     20.641      0.000    1.28e+05    1.55e+05\n",
       "grade_11 Excellent    2.37e+05   1.57e+04     15.075      0.000    2.06e+05    2.68e+05\n",
       "grade_12 Luxury      8.032e+05   2.97e+04     27.072      0.000    7.45e+05    8.61e+05\n",
       "grade_13 Mansion      1.95e+06      7e+04     27.876      0.000    1.81e+06    2.09e+06\n",
       "grade_3 Poor         -4.71e+05   2.27e+05     -2.073      0.038   -9.16e+05   -2.57e+04\n",
       "grade_4 Low           -4.3e+05   5.81e+04     -7.397      0.000   -5.44e+05   -3.16e+05\n",
       "grade_5 Fair        -4.521e+05    2.1e+04    -21.538      0.000   -4.93e+05   -4.11e+05\n",
       "grade_6 Low Average  -4.08e+05   1.24e+04    -32.898      0.000   -4.32e+05   -3.84e+05\n",
       "grade_7 Average     -3.759e+05   1.03e+04    -36.367      0.000   -3.96e+05   -3.56e+05\n",
       "grade_8 Good        -3.083e+05   9642.613    -31.971      0.000   -3.27e+05   -2.89e+05\n",
       "grade_9 Better      -1.843e+05   9663.050    -19.072      0.000   -2.03e+05   -1.65e+05\n",
       "==============================================================================\n",
       "Omnibus:                     8988.899   Durbin-Watson:                   1.972\n",
       "Prob(Omnibus):                  0.000   Jarque-Bera (JB):           271995.715\n",
       "Skew:                           2.185   Prob(JB):                         0.00\n",
       "Kurtosis:                      22.846   Cond. No.                     2.87e+05\n",
       "==============================================================================\n",
       "\n",
       "Notes:\n",
       "[1] Standard Errors assume that the covariance matrix of the errors is correctly specified.\n",
       "[2] The condition number is large, 2.87e+05. This might indicate that there are\n",
       "strong multicollinearity or other numerical problems.\n",
       "\"\"\""
      ]
     },
     "execution_count": 394,
     "metadata": {},
     "output_type": "execute_result"
    }
   ],
   "source": [
    "mlr_reg.summary()"
   ]
  },
  {
   "cell_type": "code",
   "execution_count": 402,
   "metadata": {},
   "outputs": [
    {
     "data": {
      "text/html": [
       "<div>\n",
       "<style scoped>\n",
       "    .dataframe tbody tr th:only-of-type {\n",
       "        vertical-align: middle;\n",
       "    }\n",
       "\n",
       "    .dataframe tbody tr th {\n",
       "        vertical-align: top;\n",
       "    }\n",
       "\n",
       "    .dataframe thead th {\n",
       "        text-align: right;\n",
       "    }\n",
       "</style>\n",
       "<table border=\"1\" class=\"dataframe\">\n",
       "  <thead>\n",
       "    <tr style=\"text-align: right;\">\n",
       "      <th></th>\n",
       "      <th>bedrooms</th>\n",
       "      <th>waterfront_YES</th>\n",
       "      <th>condition_Fair</th>\n",
       "      <th>condition_Good</th>\n",
       "      <th>condition_Poor</th>\n",
       "      <th>condition_Very Good</th>\n",
       "      <th>grade_11 Excellent</th>\n",
       "      <th>grade_12 Luxury</th>\n",
       "      <th>grade_13 Mansion</th>\n",
       "      <th>grade_3 Poor</th>\n",
       "      <th>grade_4 Low</th>\n",
       "      <th>grade_5 Fair</th>\n",
       "      <th>grade_6 Low Average</th>\n",
       "      <th>grade_7 Average</th>\n",
       "      <th>grade_8 Good</th>\n",
       "      <th>grade_9 Better</th>\n",
       "      <th>log(sqft_living)</th>\n",
       "    </tr>\n",
       "  </thead>\n",
       "  <tbody>\n",
       "    <tr>\n",
       "      <th>1</th>\n",
       "      <td>3</td>\n",
       "      <td>0</td>\n",
       "      <td>0</td>\n",
       "      <td>0</td>\n",
       "      <td>0</td>\n",
       "      <td>0</td>\n",
       "      <td>0</td>\n",
       "      <td>0</td>\n",
       "      <td>0</td>\n",
       "      <td>0</td>\n",
       "      <td>0</td>\n",
       "      <td>0</td>\n",
       "      <td>0</td>\n",
       "      <td>1</td>\n",
       "      <td>0</td>\n",
       "      <td>0</td>\n",
       "      <td>7.851661</td>\n",
       "    </tr>\n",
       "    <tr>\n",
       "      <th>3</th>\n",
       "      <td>4</td>\n",
       "      <td>0</td>\n",
       "      <td>0</td>\n",
       "      <td>0</td>\n",
       "      <td>0</td>\n",
       "      <td>1</td>\n",
       "      <td>0</td>\n",
       "      <td>0</td>\n",
       "      <td>0</td>\n",
       "      <td>0</td>\n",
       "      <td>0</td>\n",
       "      <td>0</td>\n",
       "      <td>0</td>\n",
       "      <td>1</td>\n",
       "      <td>0</td>\n",
       "      <td>0</td>\n",
       "      <td>7.580700</td>\n",
       "    </tr>\n",
       "    <tr>\n",
       "      <th>4</th>\n",
       "      <td>3</td>\n",
       "      <td>0</td>\n",
       "      <td>0</td>\n",
       "      <td>0</td>\n",
       "      <td>0</td>\n",
       "      <td>0</td>\n",
       "      <td>0</td>\n",
       "      <td>0</td>\n",
       "      <td>0</td>\n",
       "      <td>0</td>\n",
       "      <td>0</td>\n",
       "      <td>0</td>\n",
       "      <td>0</td>\n",
       "      <td>0</td>\n",
       "      <td>1</td>\n",
       "      <td>0</td>\n",
       "      <td>7.426549</td>\n",
       "    </tr>\n",
       "    <tr>\n",
       "      <th>5</th>\n",
       "      <td>4</td>\n",
       "      <td>0</td>\n",
       "      <td>0</td>\n",
       "      <td>0</td>\n",
       "      <td>0</td>\n",
       "      <td>0</td>\n",
       "      <td>1</td>\n",
       "      <td>0</td>\n",
       "      <td>0</td>\n",
       "      <td>0</td>\n",
       "      <td>0</td>\n",
       "      <td>0</td>\n",
       "      <td>0</td>\n",
       "      <td>0</td>\n",
       "      <td>0</td>\n",
       "      <td>0</td>\n",
       "      <td>8.597851</td>\n",
       "    </tr>\n",
       "    <tr>\n",
       "      <th>6</th>\n",
       "      <td>3</td>\n",
       "      <td>0</td>\n",
       "      <td>0</td>\n",
       "      <td>0</td>\n",
       "      <td>0</td>\n",
       "      <td>0</td>\n",
       "      <td>0</td>\n",
       "      <td>0</td>\n",
       "      <td>0</td>\n",
       "      <td>0</td>\n",
       "      <td>0</td>\n",
       "      <td>0</td>\n",
       "      <td>0</td>\n",
       "      <td>1</td>\n",
       "      <td>0</td>\n",
       "      <td>0</td>\n",
       "      <td>7.447168</td>\n",
       "    </tr>\n",
       "    <tr>\n",
       "      <th>...</th>\n",
       "      <td>...</td>\n",
       "      <td>...</td>\n",
       "      <td>...</td>\n",
       "      <td>...</td>\n",
       "      <td>...</td>\n",
       "      <td>...</td>\n",
       "      <td>...</td>\n",
       "      <td>...</td>\n",
       "      <td>...</td>\n",
       "      <td>...</td>\n",
       "      <td>...</td>\n",
       "      <td>...</td>\n",
       "      <td>...</td>\n",
       "      <td>...</td>\n",
       "      <td>...</td>\n",
       "      <td>...</td>\n",
       "      <td>...</td>\n",
       "    </tr>\n",
       "    <tr>\n",
       "      <th>21591</th>\n",
       "      <td>3</td>\n",
       "      <td>0</td>\n",
       "      <td>0</td>\n",
       "      <td>0</td>\n",
       "      <td>0</td>\n",
       "      <td>0</td>\n",
       "      <td>0</td>\n",
       "      <td>0</td>\n",
       "      <td>0</td>\n",
       "      <td>0</td>\n",
       "      <td>0</td>\n",
       "      <td>0</td>\n",
       "      <td>0</td>\n",
       "      <td>0</td>\n",
       "      <td>1</td>\n",
       "      <td>0</td>\n",
       "      <td>7.177782</td>\n",
       "    </tr>\n",
       "    <tr>\n",
       "      <th>21592</th>\n",
       "      <td>3</td>\n",
       "      <td>0</td>\n",
       "      <td>0</td>\n",
       "      <td>0</td>\n",
       "      <td>0</td>\n",
       "      <td>0</td>\n",
       "      <td>0</td>\n",
       "      <td>0</td>\n",
       "      <td>0</td>\n",
       "      <td>0</td>\n",
       "      <td>0</td>\n",
       "      <td>0</td>\n",
       "      <td>0</td>\n",
       "      <td>0</td>\n",
       "      <td>1</td>\n",
       "      <td>0</td>\n",
       "      <td>7.333023</td>\n",
       "    </tr>\n",
       "    <tr>\n",
       "      <th>21593</th>\n",
       "      <td>4</td>\n",
       "      <td>0</td>\n",
       "      <td>0</td>\n",
       "      <td>0</td>\n",
       "      <td>0</td>\n",
       "      <td>0</td>\n",
       "      <td>0</td>\n",
       "      <td>0</td>\n",
       "      <td>0</td>\n",
       "      <td>0</td>\n",
       "      <td>0</td>\n",
       "      <td>0</td>\n",
       "      <td>0</td>\n",
       "      <td>0</td>\n",
       "      <td>1</td>\n",
       "      <td>0</td>\n",
       "      <td>7.745003</td>\n",
       "    </tr>\n",
       "    <tr>\n",
       "      <th>21594</th>\n",
       "      <td>2</td>\n",
       "      <td>0</td>\n",
       "      <td>0</td>\n",
       "      <td>0</td>\n",
       "      <td>0</td>\n",
       "      <td>0</td>\n",
       "      <td>0</td>\n",
       "      <td>0</td>\n",
       "      <td>0</td>\n",
       "      <td>0</td>\n",
       "      <td>0</td>\n",
       "      <td>0</td>\n",
       "      <td>0</td>\n",
       "      <td>1</td>\n",
       "      <td>0</td>\n",
       "      <td>0</td>\n",
       "      <td>6.927558</td>\n",
       "    </tr>\n",
       "    <tr>\n",
       "      <th>21596</th>\n",
       "      <td>2</td>\n",
       "      <td>0</td>\n",
       "      <td>0</td>\n",
       "      <td>0</td>\n",
       "      <td>0</td>\n",
       "      <td>0</td>\n",
       "      <td>0</td>\n",
       "      <td>0</td>\n",
       "      <td>0</td>\n",
       "      <td>0</td>\n",
       "      <td>0</td>\n",
       "      <td>0</td>\n",
       "      <td>0</td>\n",
       "      <td>1</td>\n",
       "      <td>0</td>\n",
       "      <td>0</td>\n",
       "      <td>6.927558</td>\n",
       "    </tr>\n",
       "  </tbody>\n",
       "</table>\n",
       "<p>15807 rows × 17 columns</p>\n",
       "</div>"
      ],
      "text/plain": [
       "       bedrooms  waterfront_YES  condition_Fair  condition_Good  \\\n",
       "1             3               0               0               0   \n",
       "3             4               0               0               0   \n",
       "4             3               0               0               0   \n",
       "5             4               0               0               0   \n",
       "6             3               0               0               0   \n",
       "...         ...             ...             ...             ...   \n",
       "21591         3               0               0               0   \n",
       "21592         3               0               0               0   \n",
       "21593         4               0               0               0   \n",
       "21594         2               0               0               0   \n",
       "21596         2               0               0               0   \n",
       "\n",
       "       condition_Poor  condition_Very Good  grade_11 Excellent  \\\n",
       "1                   0                    0                   0   \n",
       "3                   0                    1                   0   \n",
       "4                   0                    0                   0   \n",
       "5                   0                    0                   1   \n",
       "6                   0                    0                   0   \n",
       "...               ...                  ...                 ...   \n",
       "21591               0                    0                   0   \n",
       "21592               0                    0                   0   \n",
       "21593               0                    0                   0   \n",
       "21594               0                    0                   0   \n",
       "21596               0                    0                   0   \n",
       "\n",
       "       grade_12 Luxury  grade_13 Mansion  grade_3 Poor  grade_4 Low  \\\n",
       "1                    0                 0             0            0   \n",
       "3                    0                 0             0            0   \n",
       "4                    0                 0             0            0   \n",
       "5                    0                 0             0            0   \n",
       "6                    0                 0             0            0   \n",
       "...                ...               ...           ...          ...   \n",
       "21591                0                 0             0            0   \n",
       "21592                0                 0             0            0   \n",
       "21593                0                 0             0            0   \n",
       "21594                0                 0             0            0   \n",
       "21596                0                 0             0            0   \n",
       "\n",
       "       grade_5 Fair  grade_6 Low Average  grade_7 Average  grade_8 Good  \\\n",
       "1                 0                    0                1             0   \n",
       "3                 0                    0                1             0   \n",
       "4                 0                    0                0             1   \n",
       "5                 0                    0                0             0   \n",
       "6                 0                    0                1             0   \n",
       "...             ...                  ...              ...           ...   \n",
       "21591             0                    0                0             1   \n",
       "21592             0                    0                0             1   \n",
       "21593             0                    0                0             1   \n",
       "21594             0                    0                1             0   \n",
       "21596             0                    0                1             0   \n",
       "\n",
       "       grade_9 Better  log(sqft_living)  \n",
       "1                   0          7.851661  \n",
       "3                   0          7.580700  \n",
       "4                   0          7.426549  \n",
       "5                   0          8.597851  \n",
       "6                   0          7.447168  \n",
       "...               ...               ...  \n",
       "21591               0          7.177782  \n",
       "21592               0          7.333023  \n",
       "21593               0          7.745003  \n",
       "21594               0          6.927558  \n",
       "21596               0          6.927558  \n",
       "\n",
       "[15807 rows x 17 columns]"
      ]
     },
     "execution_count": 402,
     "metadata": {},
     "output_type": "execute_result"
    }
   ],
   "source": [
    "x_log = X_var.copy()\n",
    "x_log[\"log(sqft_living)\"] = np.log(x_log[\"sqft_living\"])\n",
    "x_log.drop(\"sqft_living\", axis=1, inplace=True)\n",
    "#x_log = x_log[[\"log(sqft_living)\",x_log]]\n",
    "x_log"
   ]
  },
  {
   "cell_type": "code",
   "execution_count": 403,
   "metadata": {},
   "outputs": [],
   "source": [
    "y_log = np.log(y_var)"
   ]
  },
  {
   "cell_type": "code",
   "execution_count": 404,
   "metadata": {},
   "outputs": [],
   "source": [
    "model = sm.OLS(endog = y_log ,exog = sm.add_constant(x_log))\n",
    "reg = model.fit()"
   ]
  },
  {
   "cell_type": "code",
   "execution_count": 405,
   "metadata": {},
   "outputs": [
    {
     "data": {
      "text/html": [
       "<table class=\"simpletable\">\n",
       "<caption>OLS Regression Results</caption>\n",
       "<tr>\n",
       "  <th>Dep. Variable:</th>          <td>price</td>      <th>  R-squared:         </th> <td>   0.579</td> \n",
       "</tr>\n",
       "<tr>\n",
       "  <th>Model:</th>                   <td>OLS</td>       <th>  Adj. R-squared:    </th> <td>   0.579</td> \n",
       "</tr>\n",
       "<tr>\n",
       "  <th>Method:</th>             <td>Least Squares</td>  <th>  F-statistic:       </th> <td>   1278.</td> \n",
       "</tr>\n",
       "<tr>\n",
       "  <th>Date:</th>             <td>Wed, 28 Sep 2022</td> <th>  Prob (F-statistic):</th>  <td>  0.00</td>  \n",
       "</tr>\n",
       "<tr>\n",
       "  <th>Time:</th>                 <td>02:32:30</td>     <th>  Log-Likelihood:    </th> <td> -5453.1</td> \n",
       "</tr>\n",
       "<tr>\n",
       "  <th>No. Observations:</th>      <td> 15807</td>      <th>  AIC:               </th> <td>1.094e+04</td>\n",
       "</tr>\n",
       "<tr>\n",
       "  <th>Df Residuals:</th>          <td> 15789</td>      <th>  BIC:               </th> <td>1.108e+04</td>\n",
       "</tr>\n",
       "<tr>\n",
       "  <th>Df Model:</th>              <td>    17</td>      <th>                     </th>     <td> </td>    \n",
       "</tr>\n",
       "<tr>\n",
       "  <th>Covariance Type:</th>      <td>nonrobust</td>    <th>                     </th>     <td> </td>    \n",
       "</tr>\n",
       "</table>\n",
       "<table class=\"simpletable\">\n",
       "<tr>\n",
       "           <td></td>              <th>coef</th>     <th>std err</th>      <th>t</th>      <th>P>|t|</th>  <th>[0.025</th>    <th>0.975]</th>  \n",
       "</tr>\n",
       "<tr>\n",
       "  <th>const</th>               <td>   10.2223</td> <td>    0.089</td> <td>  115.069</td> <td> 0.000</td> <td>   10.048</td> <td>   10.396</td>\n",
       "</tr>\n",
       "<tr>\n",
       "  <th>bedrooms</th>            <td>   -0.0223</td> <td>    0.004</td> <td>   -5.888</td> <td> 0.000</td> <td>   -0.030</td> <td>   -0.015</td>\n",
       "</tr>\n",
       "<tr>\n",
       "  <th>waterfront_YES</th>      <td>    0.6393</td> <td>    0.032</td> <td>   20.257</td> <td> 0.000</td> <td>    0.577</td> <td>    0.701</td>\n",
       "</tr>\n",
       "<tr>\n",
       "  <th>condition_Fair</th>      <td>   -0.0971</td> <td>    0.030</td> <td>   -3.200</td> <td> 0.001</td> <td>   -0.157</td> <td>   -0.038</td>\n",
       "</tr>\n",
       "<tr>\n",
       "  <th>condition_Good</th>      <td>    0.0792</td> <td>    0.006</td> <td>   12.373</td> <td> 0.000</td> <td>    0.067</td> <td>    0.092</td>\n",
       "</tr>\n",
       "<tr>\n",
       "  <th>condition_Poor</th>      <td>    0.0813</td> <td>    0.079</td> <td>    1.028</td> <td> 0.304</td> <td>   -0.074</td> <td>    0.236</td>\n",
       "</tr>\n",
       "<tr>\n",
       "  <th>condition_Very Good</th> <td>    0.2269</td> <td>    0.010</td> <td>   21.941</td> <td> 0.000</td> <td>    0.207</td> <td>    0.247</td>\n",
       "</tr>\n",
       "<tr>\n",
       "  <th>grade_11 Excellent</th>  <td>    0.2086</td> <td>    0.023</td> <td>    8.920</td> <td> 0.000</td> <td>    0.163</td> <td>    0.254</td>\n",
       "</tr>\n",
       "<tr>\n",
       "  <th>grade_12 Luxury</th>     <td>    0.4890</td> <td>    0.044</td> <td>   11.183</td> <td> 0.000</td> <td>    0.403</td> <td>    0.575</td>\n",
       "</tr>\n",
       "<tr>\n",
       "  <th>grade_13 Mansion</th>    <td>    0.9237</td> <td>    0.104</td> <td>    8.883</td> <td> 0.000</td> <td>    0.720</td> <td>    1.128</td>\n",
       "</tr>\n",
       "<tr>\n",
       "  <th>grade_3 Poor</th>        <td>   -0.7385</td> <td>    0.343</td> <td>   -2.155</td> <td> 0.031</td> <td>   -1.410</td> <td>   -0.067</td>\n",
       "</tr>\n",
       "<tr>\n",
       "  <th>grade_4 Low</th>         <td>   -0.9641</td> <td>    0.088</td> <td>  -10.931</td> <td> 0.000</td> <td>   -1.137</td> <td>   -0.791</td>\n",
       "</tr>\n",
       "<tr>\n",
       "  <th>grade_5 Fair</th>        <td>   -0.9540</td> <td>    0.032</td> <td>  -29.739</td> <td> 0.000</td> <td>   -1.017</td> <td>   -0.891</td>\n",
       "</tr>\n",
       "<tr>\n",
       "  <th>grade_6 Low Average</th> <td>   -0.8039</td> <td>    0.019</td> <td>  -43.032</td> <td> 0.000</td> <td>   -0.840</td> <td>   -0.767</td>\n",
       "</tr>\n",
       "<tr>\n",
       "  <th>grade_7 Average</th>     <td>   -0.6554</td> <td>    0.015</td> <td>  -44.107</td> <td> 0.000</td> <td>   -0.685</td> <td>   -0.626</td>\n",
       "</tr>\n",
       "<tr>\n",
       "  <th>grade_8 Good</th>        <td>   -0.4569</td> <td>    0.014</td> <td>  -32.932</td> <td> 0.000</td> <td>   -0.484</td> <td>   -0.430</td>\n",
       "</tr>\n",
       "<tr>\n",
       "  <th>grade_9 Better</th>      <td>   -0.2173</td> <td>    0.014</td> <td>  -15.142</td> <td> 0.000</td> <td>   -0.245</td> <td>   -0.189</td>\n",
       "</tr>\n",
       "<tr>\n",
       "  <th>log(sqft_living)</th>    <td>    0.4458</td> <td>    0.012</td> <td>   37.980</td> <td> 0.000</td> <td>    0.423</td> <td>    0.469</td>\n",
       "</tr>\n",
       "</table>\n",
       "<table class=\"simpletable\">\n",
       "<tr>\n",
       "  <th>Omnibus:</th>       <td>33.652</td> <th>  Durbin-Watson:     </th> <td>   1.977</td>\n",
       "</tr>\n",
       "<tr>\n",
       "  <th>Prob(Omnibus):</th> <td> 0.000</td> <th>  Jarque-Bera (JB):  </th> <td>  30.837</td>\n",
       "</tr>\n",
       "<tr>\n",
       "  <th>Skew:</th>          <td> 0.073</td> <th>  Prob(JB):          </th> <td>2.01e-07</td>\n",
       "</tr>\n",
       "<tr>\n",
       "  <th>Kurtosis:</th>      <td> 2.841</td> <th>  Cond. No.          </th> <td>1.06e+03</td>\n",
       "</tr>\n",
       "</table><br/><br/>Notes:<br/>[1] Standard Errors assume that the covariance matrix of the errors is correctly specified.<br/>[2] The condition number is large, 1.06e+03. This might indicate that there are<br/>strong multicollinearity or other numerical problems."
      ],
      "text/plain": [
       "<class 'statsmodels.iolib.summary.Summary'>\n",
       "\"\"\"\n",
       "                            OLS Regression Results                            \n",
       "==============================================================================\n",
       "Dep. Variable:                  price   R-squared:                       0.579\n",
       "Model:                            OLS   Adj. R-squared:                  0.579\n",
       "Method:                 Least Squares   F-statistic:                     1278.\n",
       "Date:                Wed, 28 Sep 2022   Prob (F-statistic):               0.00\n",
       "Time:                        02:32:30   Log-Likelihood:                -5453.1\n",
       "No. Observations:               15807   AIC:                         1.094e+04\n",
       "Df Residuals:                   15789   BIC:                         1.108e+04\n",
       "Df Model:                          17                                         \n",
       "Covariance Type:            nonrobust                                         \n",
       "=======================================================================================\n",
       "                          coef    std err          t      P>|t|      [0.025      0.975]\n",
       "---------------------------------------------------------------------------------------\n",
       "const                  10.2223      0.089    115.069      0.000      10.048      10.396\n",
       "bedrooms               -0.0223      0.004     -5.888      0.000      -0.030      -0.015\n",
       "waterfront_YES          0.6393      0.032     20.257      0.000       0.577       0.701\n",
       "condition_Fair         -0.0971      0.030     -3.200      0.001      -0.157      -0.038\n",
       "condition_Good          0.0792      0.006     12.373      0.000       0.067       0.092\n",
       "condition_Poor          0.0813      0.079      1.028      0.304      -0.074       0.236\n",
       "condition_Very Good     0.2269      0.010     21.941      0.000       0.207       0.247\n",
       "grade_11 Excellent      0.2086      0.023      8.920      0.000       0.163       0.254\n",
       "grade_12 Luxury         0.4890      0.044     11.183      0.000       0.403       0.575\n",
       "grade_13 Mansion        0.9237      0.104      8.883      0.000       0.720       1.128\n",
       "grade_3 Poor           -0.7385      0.343     -2.155      0.031      -1.410      -0.067\n",
       "grade_4 Low            -0.9641      0.088    -10.931      0.000      -1.137      -0.791\n",
       "grade_5 Fair           -0.9540      0.032    -29.739      0.000      -1.017      -0.891\n",
       "grade_6 Low Average    -0.8039      0.019    -43.032      0.000      -0.840      -0.767\n",
       "grade_7 Average        -0.6554      0.015    -44.107      0.000      -0.685      -0.626\n",
       "grade_8 Good           -0.4569      0.014    -32.932      0.000      -0.484      -0.430\n",
       "grade_9 Better         -0.2173      0.014    -15.142      0.000      -0.245      -0.189\n",
       "log(sqft_living)        0.4458      0.012     37.980      0.000       0.423       0.469\n",
       "==============================================================================\n",
       "Omnibus:                       33.652   Durbin-Watson:                   1.977\n",
       "Prob(Omnibus):                  0.000   Jarque-Bera (JB):               30.837\n",
       "Skew:                           0.073   Prob(JB):                     2.01e-07\n",
       "Kurtosis:                       2.841   Cond. No.                     1.06e+03\n",
       "==============================================================================\n",
       "\n",
       "Notes:\n",
       "[1] Standard Errors assume that the covariance matrix of the errors is correctly specified.\n",
       "[2] The condition number is large, 1.06e+03. This might indicate that there are\n",
       "strong multicollinearity or other numerical problems.\n",
       "\"\"\""
      ]
     },
     "execution_count": 405,
     "metadata": {},
     "output_type": "execute_result"
    }
   ],
   "source": [
    "reg.summary()"
   ]
  },
  {
   "cell_type": "code",
   "execution_count": null,
   "metadata": {},
   "outputs": [],
   "source": []
  },
  {
   "cell_type": "code",
   "execution_count": null,
   "metadata": {},
   "outputs": [],
   "source": []
  }
 ],
 "metadata": {
  "kernelspec": {
   "display_name": "Python 3 (ipykernel)",
   "language": "python",
   "name": "python3"
  },
  "language_info": {
   "codemirror_mode": {
    "name": "ipython",
    "version": 3
   },
   "file_extension": ".py",
   "mimetype": "text/x-python",
   "name": "python",
   "nbconvert_exporter": "python",
   "pygments_lexer": "ipython3",
   "version": "3.9.12"
  }
 },
 "nbformat": 4,
 "nbformat_minor": 2
}
